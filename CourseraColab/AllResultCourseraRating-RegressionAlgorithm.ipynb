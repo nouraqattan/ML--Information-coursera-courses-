{
  "cells": [
    {
      "cell_type": "code",
      "execution_count": 250,
      "metadata": {
        "colab": {
          "base_uri": "https://localhost:8080/"
        },
        "collapsed": true,
        "id": "0pBUrL1d7WvI",
        "outputId": "a6b88b67-1588-458b-875d-fd81d650f14f"
      },
      "outputs": [
        {
          "name": "stdout",
          "output_type": "stream",
          "text": [
            "Requirement already satisfied: langdetect in /usr/local/lib/python3.10/dist-packages (1.0.9)\n",
            "Requirement already satisfied: six in /usr/local/lib/python3.10/dist-packages (from langdetect) (1.16.0)\n"
          ]
        }
      ],
      "source": [
        "pip install langdetect"
      ]
    },
    {
      "cell_type": "code",
      "execution_count": 256,
      "metadata": {
        "colab": {
          "base_uri": "https://localhost:8080/"
        },
        "collapsed": true,
        "id": "4hw1E4_Wp01-",
        "outputId": "de4f1484-a26e-49e9-f3a8-9cb5f3cef7a0"
      },
      "outputs": [
        {
          "name": "stderr",
          "output_type": "stream",
          "text": [
            "[nltk_data] Downloading package punkt to /root/nltk_data...\n",
            "[nltk_data]   Package punkt is already up-to-date!\n",
            "[nltk_data] Downloading package stopwords to /root/nltk_data...\n",
            "[nltk_data]   Package stopwords is already up-to-date!\n",
            "[nltk_data] Downloading package wordnet to /root/nltk_data...\n",
            "[nltk_data]   Package wordnet is already up-to-date!\n"
          ]
        },
        {
          "data": {
            "text/plain": [
              "True"
            ]
          },
          "execution_count": 256,
          "metadata": {},
          "output_type": "execute_result"
        }
      ],
      "source": [
        "import pandas as pd\n",
        "import nltk\n",
        "from nltk.corpus import stopwords\n",
        "from nltk.stem import PorterStemmer\n",
        "import string\n",
        "import re\n",
        "from nltk.tokenize import word_tokenize\n",
        "from nltk.stem import PorterStemmer, WordNetLemmatizer\n",
        "import nltk\n",
        "nltk.download('punkt')\n",
        "nltk.download('stopwords')\n",
        "nltk.download('wordnet')\n"
      ]
    },
    {
      "cell_type": "code",
      "execution_count": 257,
      "metadata": {
        "id": "Xx0hm0g8peJd"
      },
      "outputs": [],
      "source": [
        "df = pd.read_csv('/content/drive/MyDrive/CourseraDataset-Clean.csv', engine='python', encoding='utf-8')\n"
      ]
    },
    {
      "cell_type": "markdown",
      "metadata": {
        "id": "1H-fKPaysG6j"
      },
      "source": [
        "### ***`PreProcessing`***"
      ]
    },
    {
      "cell_type": "code",
      "execution_count": 258,
      "metadata": {
        "id": "dC-0wsLkeUsA"
      },
      "outputs": [],
      "source": [
        "from sklearn.preprocessing import OneHotEncoder\n",
        "\n",
        "\n",
        "\n",
        "# Identify the columns containing categorical string variables that you want to encode\n",
        "categorical_columns = ['level','keyword']\n",
        "\n",
        "# Check if the categorical columns exist in the DataFrame\n",
        "missing_columns = [col for col in categorical_columns if col not in df.columns]\n",
        "if missing_columns:\n",
        "    raise ValueError(f\"The following columns are missing in the DataFrame: {missing_columns}\")\n",
        "\n",
        "# Initialize the OneHotEncoder\n",
        "encoder = OneHotEncoder()\n",
        "\n",
        "# Fit and transform the categorical columns\n",
        "encoded_data = encoder.fit_transform(df[categorical_columns])\n",
        "\n",
        "# Create a new DataFrame with the transformed values\n",
        "encoded_df = pd.DataFrame(encoded_data.toarray(), columns=encoder.get_feature_names_out(categorical_columns))\n",
        "\n",
        "# Drop the original categorical columns from the DataFrame\n",
        "df = df.drop(categorical_columns, axis=1)\n",
        "\n",
        "# Concatenate the new DataFrame with the transformed values\n",
        "df = pd.concat([df, encoded_df], axis=1)\n"
      ]
    },
    {
      "cell_type": "markdown",
      "metadata": {
        "id": "CKYbqEYvrWW3"
      },
      "source": []
    },
    {
      "cell_type": "code",
      "execution_count": 259,
      "metadata": {
        "id": "jORPCNC9lRLJ"
      },
      "outputs": [],
      "source": [
        "from langdetect import detect, LangDetectException\n",
        "\n",
        "\n",
        "# Function to detect language\n",
        "def detect_language(text):\n",
        "    try:\n",
        "        return detect(text)\n",
        "    except LangDetectException:\n",
        "        return None\n",
        "\n",
        "# Combine the relevant columns into a single string for language detection\n",
        "df['combined_text'] = df[['course title','modules','skill gain','offered','instructor','what you will learn']].astype(str).agg(' '.join, axis=1)\n",
        "\n",
        "# Apply the language detection function\n",
        "df['language'] = df['combined_text'].apply(detect_language)\n",
        "\n",
        "# Filter out non-English rows\n",
        "df = df[df['language'] == 'en']\n",
        "\n",
        "# Drop the temporary 'language' and 'combined_text' columns\n",
        "df = df.drop(columns=['language', 'combined_text'])\n"
      ]
    },
    {
      "cell_type": "code",
      "execution_count": 260,
      "metadata": {
        "colab": {
          "base_uri": "https://localhost:8080/"
        },
        "id": "CGI327Cwn2Kn",
        "outputId": "9a778f35-c581-4042-c204-0a3a069f3768"
      },
      "outputs": [
        {
          "name": "stdout",
          "output_type": "stream",
          "text": [
            "Number of null rows: 140\n"
          ]
        }
      ],
      "source": [
        "# Check for null values in each row\n",
        "null_rows = df.isnull().any(axis=1)\n",
        "\n",
        "# Count the number of null rows\n",
        "num_null_rows = null_rows.sum()\n",
        "\n",
        "# Print the number of null rows\n",
        "print(\"Number of null rows:\", num_null_rows)\n"
      ]
    },
    {
      "cell_type": "code",
      "execution_count": 261,
      "metadata": {
        "colab": {
          "base_uri": "https://localhost:8080/"
        },
        "collapsed": true,
        "id": "HxePQ_AisEEf",
        "outputId": "3c5b5a42-5330-4a6e-e7a3-2946365a5459"
      },
      "outputs": [
        {
          "name": "stdout",
          "output_type": "stream",
          "text": [
            "Number of null rows: 140\n",
            "Shape of DataFrame after dropping null rows: (7085, 35)\n"
          ]
        }
      ],
      "source": [
        "# Check for null values in each row\n",
        "null_rows = df.isnull().any(axis=1)\n",
        "\n",
        "# Count the number of null rows\n",
        "num_null_rows = null_rows.sum()\n",
        "\n",
        "# Print the number of null rows\n",
        "print(\"Number of null rows:\", num_null_rows)\n",
        "\n",
        "# Drop the rows with any null values\n",
        "df = df.dropna()\n",
        "\n",
        "# Print the shape of the DataFrame after dropping null rows\n",
        "print(\"Shape of DataFrame after dropping null rows:\", df.shape)\n"
      ]
    },
    {
      "cell_type": "code",
      "execution_count": 262,
      "metadata": {
        "colab": {
          "base_uri": "https://localhost:8080/"
        },
        "collapsed": true,
        "id": "y4KpZ_n1sIpN",
        "outputId": "50154f43-33ae-4f2d-88b8-ce3b10734cd6"
      },
      "outputs": [
        {
          "name": "stdout",
          "output_type": "stream",
          "text": [
            "Number of null rows: 0\n"
          ]
        }
      ],
      "source": [
        "# Check for null values in each row\n",
        "null_rows = df.isnull().any(axis=1)\n",
        "\n",
        "# Count the number of null rows\n",
        "num_null_rows = null_rows.sum()\n",
        "\n",
        "# Print the number of null rows\n",
        "print(\"Number of null rows:\", num_null_rows)\n"
      ]
    },
    {
      "cell_type": "code",
      "execution_count": 263,
      "metadata": {
        "id": "_T9c0TG_7o8V"
      },
      "outputs": [],
      "source": [
        "df.drop(columns=['Course Url','instructor'] , inplace= True)"
      ]
    },
    {
      "cell_type": "code",
      "execution_count": 264,
      "metadata": {
        "id": "ewc86Fap8YIl"
      },
      "outputs": [],
      "source": [
        "y = df['Rating']\n",
        "X = df.loc[: , df.columns != 'Rating']"
      ]
    },
    {
      "cell_type": "code",
      "execution_count": 265,
      "metadata": {
        "id": "h1TewB3w8aJZ"
      },
      "outputs": [],
      "source": [
        "from sklearn.model_selection import train_test_split\n",
        "\n",
        "X_train, X_test, y_train , y_test = train_test_split(X , y , test_size = 0.2)"
      ]
    },
    {
      "cell_type": "code",
      "execution_count": 269,
      "metadata": {
        "id": "LovOGmpVUMiN"
      },
      "outputs": [],
      "source": [
        "from nltk.tokenize import word_tokenize\n",
        "from nltk.corpus import stopwords\n",
        "from nltk.stem import PorterStemmer, WordNetLemmatizer\n",
        "\n",
        "# Define the preprocess_text function\n",
        "def preprocess_text(text):\n",
        "    if not isinstance(text, str):\n",
        "        return text\n",
        "    # Remove URLs, emails, and special characters\n",
        "    text = re.sub(r'http\\S+|www.\\S+|[^a-zA-Z\\s]', '', text)\n",
        "    # Remove numbers\n",
        "    text = re.sub(r'\\d+', '', text)\n",
        "    # Remove HTML tags\n",
        "    text = re.sub(r'<.*?>', '', text)\n",
        "    # Remove non-ASCII characters\n",
        "    text = re.sub(r'[^\\x00-\\x7F]+', '', text)\n",
        "    # Convert to lowercase\n",
        "    text = text.lower()\n",
        "    # Remove extra whitespace\n",
        "    text = re.sub(r'\\s+', ' ', text).strip()\n",
        "    # Tokenization\n",
        "    tokens = word_tokenize(text)\n",
        "    # Remove stop words\n",
        "    stop_words = set(stopwords.words('english'))\n",
        "    filtered_tokens = [word for word in tokens if word not in stop_words]\n",
        "    # Stemming\n",
        "    stemmer = PorterStemmer()\n",
        "    stemmed_tokens = [stemmer.stem(word) for word in filtered_tokens]\n",
        "    # Lemmatization\n",
        "    lemmatizer = WordNetLemmatizer()\n",
        "    lemmatized_tokens = [lemmatizer.lemmatize(word) for word in stemmed_tokens]\n",
        "    return ' '.join(lemmatized_tokens)\n",
        "\n",
        "\n",
        "# Specify the text columns\n",
        "text_columns = ['what you will learn', 'skill gain', 'modules', 'course title','offered','schedule']\n",
        "\n",
        "# Apply the preprocess_text function to each text column\n",
        "for col in text_columns:\n",
        "    df[col] = df[col].apply(preprocess_text)\n"
      ]
    },
    {
      "cell_type": "code",
      "execution_count": 270,
      "metadata": {
        "colab": {
          "base_uri": "https://localhost:8080/"
        },
        "collapsed": true,
        "id": "A0OOJoLRg582",
        "outputId": "056d530e-5bb0-4061-c63f-c3d913c9a2b9"
      },
      "outputs": [
        {
          "name": "stderr",
          "output_type": "stream",
          "text": [
            "[nltk_data] Downloading package stopwords to /root/nltk_data...\n",
            "[nltk_data]   Package stopwords is already up-to-date!\n",
            "[nltk_data] Downloading package punkt to /root/nltk_data...\n",
            "[nltk_data]   Package punkt is already up-to-date!\n",
            "<ipython-input-270-26120551e2fe>:50: SettingWithCopyWarning: \n",
            "A value is trying to be set on a copy of a slice from a DataFrame.\n",
            "Try using .loc[row_indexer,col_indexer] = value instead\n",
            "\n",
            "See the caveats in the documentation: https://pandas.pydata.org/pandas-docs/stable/user_guide/indexing.html#returning-a-view-versus-a-copy\n",
            "  section_df['course title'] = numerical_column\n",
            "<ipython-input-270-26120551e2fe>:57: SettingWithCopyWarning: \n",
            "A value is trying to be set on a copy of a slice from a DataFrame.\n",
            "Try using .loc[row_indexer,col_indexer] = value instead\n",
            "\n",
            "See the caveats in the documentation: https://pandas.pydata.org/pandas-docs/stable/user_guide/indexing.html#returning-a-view-versus-a-copy\n",
            "  section_df['offered'] = numerical_column\n",
            "<ipython-input-270-26120551e2fe>:64: SettingWithCopyWarning: \n",
            "A value is trying to be set on a copy of a slice from a DataFrame.\n",
            "Try using .loc[row_indexer,col_indexer] = value instead\n",
            "\n",
            "See the caveats in the documentation: https://pandas.pydata.org/pandas-docs/stable/user_guide/indexing.html#returning-a-view-versus-a-copy\n",
            "  section_df['modules'] = numerical_column\n",
            "<ipython-input-270-26120551e2fe>:72: SettingWithCopyWarning: \n",
            "A value is trying to be set on a copy of a slice from a DataFrame.\n",
            "Try using .loc[row_indexer,col_indexer] = value instead\n",
            "\n",
            "See the caveats in the documentation: https://pandas.pydata.org/pandas-docs/stable/user_guide/indexing.html#returning-a-view-versus-a-copy\n",
            "  section_df['what you will learn'] = numerical_column\n",
            "<ipython-input-270-26120551e2fe>:80: SettingWithCopyWarning: \n",
            "A value is trying to be set on a copy of a slice from a DataFrame.\n",
            "Try using .loc[row_indexer,col_indexer] = value instead\n",
            "\n",
            "See the caveats in the documentation: https://pandas.pydata.org/pandas-docs/stable/user_guide/indexing.html#returning-a-view-versus-a-copy\n",
            "  section_df['skill gain'] = numerical_column\n",
            "<ipython-input-270-26120551e2fe>:50: SettingWithCopyWarning: \n",
            "A value is trying to be set on a copy of a slice from a DataFrame.\n",
            "Try using .loc[row_indexer,col_indexer] = value instead\n",
            "\n",
            "See the caveats in the documentation: https://pandas.pydata.org/pandas-docs/stable/user_guide/indexing.html#returning-a-view-versus-a-copy\n",
            "  section_df['course title'] = numerical_column\n",
            "<ipython-input-270-26120551e2fe>:57: SettingWithCopyWarning: \n",
            "A value is trying to be set on a copy of a slice from a DataFrame.\n",
            "Try using .loc[row_indexer,col_indexer] = value instead\n",
            "\n",
            "See the caveats in the documentation: https://pandas.pydata.org/pandas-docs/stable/user_guide/indexing.html#returning-a-view-versus-a-copy\n",
            "  section_df['offered'] = numerical_column\n",
            "<ipython-input-270-26120551e2fe>:64: SettingWithCopyWarning: \n",
            "A value is trying to be set on a copy of a slice from a DataFrame.\n",
            "Try using .loc[row_indexer,col_indexer] = value instead\n",
            "\n",
            "See the caveats in the documentation: https://pandas.pydata.org/pandas-docs/stable/user_guide/indexing.html#returning-a-view-versus-a-copy\n",
            "  section_df['modules'] = numerical_column\n",
            "<ipython-input-270-26120551e2fe>:72: SettingWithCopyWarning: \n",
            "A value is trying to be set on a copy of a slice from a DataFrame.\n",
            "Try using .loc[row_indexer,col_indexer] = value instead\n",
            "\n",
            "See the caveats in the documentation: https://pandas.pydata.org/pandas-docs/stable/user_guide/indexing.html#returning-a-view-versus-a-copy\n",
            "  section_df['what you will learn'] = numerical_column\n",
            "<ipython-input-270-26120551e2fe>:80: SettingWithCopyWarning: \n",
            "A value is trying to be set on a copy of a slice from a DataFrame.\n",
            "Try using .loc[row_indexer,col_indexer] = value instead\n",
            "\n",
            "See the caveats in the documentation: https://pandas.pydata.org/pandas-docs/stable/user_guide/indexing.html#returning-a-view-versus-a-copy\n",
            "  section_df['skill gain'] = numerical_column\n",
            "<ipython-input-270-26120551e2fe>:50: SettingWithCopyWarning: \n",
            "A value is trying to be set on a copy of a slice from a DataFrame.\n",
            "Try using .loc[row_indexer,col_indexer] = value instead\n",
            "\n",
            "See the caveats in the documentation: https://pandas.pydata.org/pandas-docs/stable/user_guide/indexing.html#returning-a-view-versus-a-copy\n",
            "  section_df['course title'] = numerical_column\n",
            "<ipython-input-270-26120551e2fe>:57: SettingWithCopyWarning: \n",
            "A value is trying to be set on a copy of a slice from a DataFrame.\n",
            "Try using .loc[row_indexer,col_indexer] = value instead\n",
            "\n",
            "See the caveats in the documentation: https://pandas.pydata.org/pandas-docs/stable/user_guide/indexing.html#returning-a-view-versus-a-copy\n",
            "  section_df['offered'] = numerical_column\n",
            "<ipython-input-270-26120551e2fe>:64: SettingWithCopyWarning: \n",
            "A value is trying to be set on a copy of a slice from a DataFrame.\n",
            "Try using .loc[row_indexer,col_indexer] = value instead\n",
            "\n",
            "See the caveats in the documentation: https://pandas.pydata.org/pandas-docs/stable/user_guide/indexing.html#returning-a-view-versus-a-copy\n",
            "  section_df['modules'] = numerical_column\n",
            "<ipython-input-270-26120551e2fe>:72: SettingWithCopyWarning: \n",
            "A value is trying to be set on a copy of a slice from a DataFrame.\n",
            "Try using .loc[row_indexer,col_indexer] = value instead\n",
            "\n",
            "See the caveats in the documentation: https://pandas.pydata.org/pandas-docs/stable/user_guide/indexing.html#returning-a-view-versus-a-copy\n",
            "  section_df['what you will learn'] = numerical_column\n",
            "<ipython-input-270-26120551e2fe>:80: SettingWithCopyWarning: \n",
            "A value is trying to be set on a copy of a slice from a DataFrame.\n",
            "Try using .loc[row_indexer,col_indexer] = value instead\n",
            "\n",
            "See the caveats in the documentation: https://pandas.pydata.org/pandas-docs/stable/user_guide/indexing.html#returning-a-view-versus-a-copy\n",
            "  section_df['skill gain'] = numerical_column\n",
            "<ipython-input-270-26120551e2fe>:50: SettingWithCopyWarning: \n",
            "A value is trying to be set on a copy of a slice from a DataFrame.\n",
            "Try using .loc[row_indexer,col_indexer] = value instead\n",
            "\n",
            "See the caveats in the documentation: https://pandas.pydata.org/pandas-docs/stable/user_guide/indexing.html#returning-a-view-versus-a-copy\n",
            "  section_df['course title'] = numerical_column\n",
            "<ipython-input-270-26120551e2fe>:57: SettingWithCopyWarning: \n",
            "A value is trying to be set on a copy of a slice from a DataFrame.\n",
            "Try using .loc[row_indexer,col_indexer] = value instead\n",
            "\n",
            "See the caveats in the documentation: https://pandas.pydata.org/pandas-docs/stable/user_guide/indexing.html#returning-a-view-versus-a-copy\n",
            "  section_df['offered'] = numerical_column\n",
            "<ipython-input-270-26120551e2fe>:64: SettingWithCopyWarning: \n",
            "A value is trying to be set on a copy of a slice from a DataFrame.\n",
            "Try using .loc[row_indexer,col_indexer] = value instead\n",
            "\n",
            "See the caveats in the documentation: https://pandas.pydata.org/pandas-docs/stable/user_guide/indexing.html#returning-a-view-versus-a-copy\n",
            "  section_df['modules'] = numerical_column\n",
            "<ipython-input-270-26120551e2fe>:72: SettingWithCopyWarning: \n",
            "A value is trying to be set on a copy of a slice from a DataFrame.\n",
            "Try using .loc[row_indexer,col_indexer] = value instead\n",
            "\n",
            "See the caveats in the documentation: https://pandas.pydata.org/pandas-docs/stable/user_guide/indexing.html#returning-a-view-versus-a-copy\n",
            "  section_df['what you will learn'] = numerical_column\n",
            "<ipython-input-270-26120551e2fe>:80: SettingWithCopyWarning: \n",
            "A value is trying to be set on a copy of a slice from a DataFrame.\n",
            "Try using .loc[row_indexer,col_indexer] = value instead\n",
            "\n",
            "See the caveats in the documentation: https://pandas.pydata.org/pandas-docs/stable/user_guide/indexing.html#returning-a-view-versus-a-copy\n",
            "  section_df['skill gain'] = numerical_column\n",
            "<ipython-input-270-26120551e2fe>:50: SettingWithCopyWarning: \n",
            "A value is trying to be set on a copy of a slice from a DataFrame.\n",
            "Try using .loc[row_indexer,col_indexer] = value instead\n",
            "\n",
            "See the caveats in the documentation: https://pandas.pydata.org/pandas-docs/stable/user_guide/indexing.html#returning-a-view-versus-a-copy\n",
            "  section_df['course title'] = numerical_column\n",
            "<ipython-input-270-26120551e2fe>:57: SettingWithCopyWarning: \n",
            "A value is trying to be set on a copy of a slice from a DataFrame.\n",
            "Try using .loc[row_indexer,col_indexer] = value instead\n",
            "\n",
            "See the caveats in the documentation: https://pandas.pydata.org/pandas-docs/stable/user_guide/indexing.html#returning-a-view-versus-a-copy\n",
            "  section_df['offered'] = numerical_column\n",
            "<ipython-input-270-26120551e2fe>:64: SettingWithCopyWarning: \n",
            "A value is trying to be set on a copy of a slice from a DataFrame.\n",
            "Try using .loc[row_indexer,col_indexer] = value instead\n",
            "\n",
            "See the caveats in the documentation: https://pandas.pydata.org/pandas-docs/stable/user_guide/indexing.html#returning-a-view-versus-a-copy\n",
            "  section_df['modules'] = numerical_column\n",
            "<ipython-input-270-26120551e2fe>:72: SettingWithCopyWarning: \n",
            "A value is trying to be set on a copy of a slice from a DataFrame.\n",
            "Try using .loc[row_indexer,col_indexer] = value instead\n",
            "\n",
            "See the caveats in the documentation: https://pandas.pydata.org/pandas-docs/stable/user_guide/indexing.html#returning-a-view-versus-a-copy\n",
            "  section_df['what you will learn'] = numerical_column\n",
            "<ipython-input-270-26120551e2fe>:80: SettingWithCopyWarning: \n",
            "A value is trying to be set on a copy of a slice from a DataFrame.\n",
            "Try using .loc[row_indexer,col_indexer] = value instead\n",
            "\n",
            "See the caveats in the documentation: https://pandas.pydata.org/pandas-docs/stable/user_guide/indexing.html#returning-a-view-versus-a-copy\n",
            "  section_df['skill gain'] = numerical_column\n",
            "<ipython-input-270-26120551e2fe>:50: SettingWithCopyWarning: \n",
            "A value is trying to be set on a copy of a slice from a DataFrame.\n",
            "Try using .loc[row_indexer,col_indexer] = value instead\n",
            "\n",
            "See the caveats in the documentation: https://pandas.pydata.org/pandas-docs/stable/user_guide/indexing.html#returning-a-view-versus-a-copy\n",
            "  section_df['course title'] = numerical_column\n",
            "<ipython-input-270-26120551e2fe>:57: SettingWithCopyWarning: \n",
            "A value is trying to be set on a copy of a slice from a DataFrame.\n",
            "Try using .loc[row_indexer,col_indexer] = value instead\n",
            "\n",
            "See the caveats in the documentation: https://pandas.pydata.org/pandas-docs/stable/user_guide/indexing.html#returning-a-view-versus-a-copy\n",
            "  section_df['offered'] = numerical_column\n",
            "<ipython-input-270-26120551e2fe>:64: SettingWithCopyWarning: \n",
            "A value is trying to be set on a copy of a slice from a DataFrame.\n",
            "Try using .loc[row_indexer,col_indexer] = value instead\n",
            "\n",
            "See the caveats in the documentation: https://pandas.pydata.org/pandas-docs/stable/user_guide/indexing.html#returning-a-view-versus-a-copy\n",
            "  section_df['modules'] = numerical_column\n",
            "<ipython-input-270-26120551e2fe>:72: SettingWithCopyWarning: \n",
            "A value is trying to be set on a copy of a slice from a DataFrame.\n",
            "Try using .loc[row_indexer,col_indexer] = value instead\n",
            "\n",
            "See the caveats in the documentation: https://pandas.pydata.org/pandas-docs/stable/user_guide/indexing.html#returning-a-view-versus-a-copy\n",
            "  section_df['what you will learn'] = numerical_column\n",
            "<ipython-input-270-26120551e2fe>:80: SettingWithCopyWarning: \n",
            "A value is trying to be set on a copy of a slice from a DataFrame.\n",
            "Try using .loc[row_indexer,col_indexer] = value instead\n",
            "\n",
            "See the caveats in the documentation: https://pandas.pydata.org/pandas-docs/stable/user_guide/indexing.html#returning-a-view-versus-a-copy\n",
            "  section_df['skill gain'] = numerical_column\n",
            "<ipython-input-270-26120551e2fe>:50: SettingWithCopyWarning: \n",
            "A value is trying to be set on a copy of a slice from a DataFrame.\n",
            "Try using .loc[row_indexer,col_indexer] = value instead\n",
            "\n",
            "See the caveats in the documentation: https://pandas.pydata.org/pandas-docs/stable/user_guide/indexing.html#returning-a-view-versus-a-copy\n",
            "  section_df['course title'] = numerical_column\n",
            "<ipython-input-270-26120551e2fe>:57: SettingWithCopyWarning: \n",
            "A value is trying to be set on a copy of a slice from a DataFrame.\n",
            "Try using .loc[row_indexer,col_indexer] = value instead\n",
            "\n",
            "See the caveats in the documentation: https://pandas.pydata.org/pandas-docs/stable/user_guide/indexing.html#returning-a-view-versus-a-copy\n",
            "  section_df['offered'] = numerical_column\n",
            "<ipython-input-270-26120551e2fe>:64: SettingWithCopyWarning: \n",
            "A value is trying to be set on a copy of a slice from a DataFrame.\n",
            "Try using .loc[row_indexer,col_indexer] = value instead\n",
            "\n",
            "See the caveats in the documentation: https://pandas.pydata.org/pandas-docs/stable/user_guide/indexing.html#returning-a-view-versus-a-copy\n",
            "  section_df['modules'] = numerical_column\n",
            "<ipython-input-270-26120551e2fe>:72: SettingWithCopyWarning: \n",
            "A value is trying to be set on a copy of a slice from a DataFrame.\n",
            "Try using .loc[row_indexer,col_indexer] = value instead\n",
            "\n",
            "See the caveats in the documentation: https://pandas.pydata.org/pandas-docs/stable/user_guide/indexing.html#returning-a-view-versus-a-copy\n",
            "  section_df['what you will learn'] = numerical_column\n",
            "<ipython-input-270-26120551e2fe>:80: SettingWithCopyWarning: \n",
            "A value is trying to be set on a copy of a slice from a DataFrame.\n",
            "Try using .loc[row_indexer,col_indexer] = value instead\n",
            "\n",
            "See the caveats in the documentation: https://pandas.pydata.org/pandas-docs/stable/user_guide/indexing.html#returning-a-view-versus-a-copy\n",
            "  section_df['skill gain'] = numerical_column\n",
            "<ipython-input-270-26120551e2fe>:50: SettingWithCopyWarning: \n",
            "A value is trying to be set on a copy of a slice from a DataFrame.\n",
            "Try using .loc[row_indexer,col_indexer] = value instead\n",
            "\n",
            "See the caveats in the documentation: https://pandas.pydata.org/pandas-docs/stable/user_guide/indexing.html#returning-a-view-versus-a-copy\n",
            "  section_df['course title'] = numerical_column\n",
            "<ipython-input-270-26120551e2fe>:57: SettingWithCopyWarning: \n",
            "A value is trying to be set on a copy of a slice from a DataFrame.\n",
            "Try using .loc[row_indexer,col_indexer] = value instead\n",
            "\n",
            "See the caveats in the documentation: https://pandas.pydata.org/pandas-docs/stable/user_guide/indexing.html#returning-a-view-versus-a-copy\n",
            "  section_df['offered'] = numerical_column\n",
            "<ipython-input-270-26120551e2fe>:64: SettingWithCopyWarning: \n",
            "A value is trying to be set on a copy of a slice from a DataFrame.\n",
            "Try using .loc[row_indexer,col_indexer] = value instead\n",
            "\n",
            "See the caveats in the documentation: https://pandas.pydata.org/pandas-docs/stable/user_guide/indexing.html#returning-a-view-versus-a-copy\n",
            "  section_df['modules'] = numerical_column\n",
            "<ipython-input-270-26120551e2fe>:72: SettingWithCopyWarning: \n",
            "A value is trying to be set on a copy of a slice from a DataFrame.\n",
            "Try using .loc[row_indexer,col_indexer] = value instead\n",
            "\n",
            "See the caveats in the documentation: https://pandas.pydata.org/pandas-docs/stable/user_guide/indexing.html#returning-a-view-versus-a-copy\n",
            "  section_df['what you will learn'] = numerical_column\n",
            "<ipython-input-270-26120551e2fe>:80: SettingWithCopyWarning: \n",
            "A value is trying to be set on a copy of a slice from a DataFrame.\n",
            "Try using .loc[row_indexer,col_indexer] = value instead\n",
            "\n",
            "See the caveats in the documentation: https://pandas.pydata.org/pandas-docs/stable/user_guide/indexing.html#returning-a-view-versus-a-copy\n",
            "  section_df['skill gain'] = numerical_column\n"
          ]
        }
      ],
      "source": [
        "from nltk.tokenize import word_tokenize\n",
        "from nltk.corpus import stopwords\n",
        "from collections import Counter\n",
        "from sklearn.feature_extraction.text import TfidfVectorizer\n",
        "from sklearn.preprocessing import LabelEncoder\n",
        "import nltk\n",
        "\n",
        "# Download necessary NLTK data\n",
        "nltk.download('stopwords')\n",
        "nltk.download('punkt')\n",
        "\n",
        "# Assuming df is already loaded dataframe\n",
        "# stop_words and tfidf_vectorizer initialization\n",
        "stop_words = set(stopwords.words('english'))\n",
        "threshold = 5\n",
        "tfidf_vectorizer = TfidfVectorizer()\n",
        "\n",
        "# Define section size\n",
        "section_size = 1000\n",
        "sections = [df[i:i + section_size] for i in range(0, df.shape[0], section_size)]\n",
        "X_tfidf_sections = []\n",
        "\n",
        "for section_df in sections:\n",
        "    cleaned_texts_no_stopwords = []\n",
        "    for text in section_df['course title'].tolist():\n",
        "        tokens = word_tokenize(text)\n",
        "        filtered_text = [word for word in tokens if word.lower() not in stop_words]\n",
        "        cleaned_texts_no_stopwords.append(' '.join(filtered_text))\n",
        "\n",
        "    word_counts = Counter([word for text in cleaned_texts_no_stopwords for word in text.split()])\n",
        "\n",
        "    cleaned_texts_no_stopwords_low_freq = []\n",
        "    for text in cleaned_texts_no_stopwords:\n",
        "        filtered_text = ' '.join([word for word in text.split() if word_counts[word] <= threshold])\n",
        "        cleaned_texts_no_stopwords_low_freq.append(filtered_text)\n",
        "\n",
        "    X_tfidf_section = tfidf_vectorizer.fit_transform(cleaned_texts_no_stopwords_low_freq)\n",
        "    X_tfidf_sections.append(X_tfidf_section)\n",
        "\n",
        "    # Encode categorical columns into numerical representations\n",
        "    label_encoder = LabelEncoder()\n",
        "\n",
        "    # Process 'course title' column\n",
        "    numerical_column = label_encoder.fit_transform(section_df['course title'])\n",
        "    numerical_column = numerical_column.reshape(-1, 1)  # Reshape the array to match the shape of X_tfidf_section\n",
        "    numerical_column = numerical_column[:X_tfidf_section.shape[0]]  # Ensure shapes match\n",
        "    X_tfidf_section = X_tfidf_section.astype(float)  # Ensure the data type is float\n",
        "    X_tfidf_section = X_tfidf_section.todense()  # Convert sparse matrix to dense matrix\n",
        "    X_tfidf_section[:, 0] = numerical_column  # Replace the first column with the numerical representation\n",
        "    section_df['course title'] = numerical_column\n",
        "\n",
        "    # Process 'offered' column\n",
        "    numerical_column = label_encoder.fit_transform(section_df['offered'])\n",
        "    numerical_column = numerical_column.reshape(-1, 1)\n",
        "    numerical_column = numerical_column[:X_tfidf_section.shape[0]]  # Ensure shapes match\n",
        "    X_tfidf_section[:, 1] = numerical_column\n",
        "    section_df['offered'] = numerical_column\n",
        "\n",
        "    # Process 'modules' column\n",
        "    numerical_column = label_encoder.fit_transform(section_df['modules'])\n",
        "    numerical_column = numerical_column.reshape(-1, 1)\n",
        "    numerical_column = numerical_column[:X_tfidf_section.shape[0]]  # Ensure shapes match\n",
        "    X_tfidf_section[:, 2] = numerical_column\n",
        "    section_df['modules'] = numerical_column\n",
        "\n",
        "\n",
        "       # Process 'what you will learn' column\n",
        "    numerical_column = label_encoder.fit_transform(section_df['what you will learn'])\n",
        "    numerical_column = numerical_column.reshape(-1, 1)\n",
        "    numerical_column = numerical_column[:X_tfidf_section.shape[0]]  # Ensure shapes match\n",
        "    X_tfidf_section[:, 2] = numerical_column\n",
        "    section_df['what you will learn'] = numerical_column\n",
        "\n",
        "\n",
        "       # Process 'skill gain' column\n",
        "    numerical_column = label_encoder.fit_transform(section_df['skill gain'])\n",
        "    numerical_column = numerical_column.reshape(-1, 1)\n",
        "    numerical_column = numerical_column[:X_tfidf_section.shape[0]]  # Ensure shapes match\n",
        "    X_tfidf_section[:, 2] = numerical_column\n",
        "    section_df['skill gain'] = numerical_column\n",
        "\n",
        "\n",
        "\n",
        "# Concatenate the sections back into the original dataframe\n",
        "df = pd.concat(sections)\n"
      ]
    },
    {
      "cell_type": "code",
      "execution_count": 271,
      "metadata": {
        "id": "6wLfDglI89Kd"
      },
      "outputs": [],
      "source": [
        "from sklearn.preprocessing import LabelEncoder\n",
        "label_encoder = LabelEncoder()\n",
        "df['schedule'] = label_encoder.fit_transform(df['schedule'])"
      ]
    },
    {
      "cell_type": "code",
      "execution_count": 272,
      "metadata": {
        "colab": {
          "base_uri": "https://localhost:8080/",
          "height": 495
        },
        "id": "bLsxqYlMsvkL",
        "outputId": "00824371-7210-4167-dbef-bd3e548fab73"
      },
      "outputs": [
        {
          "data": {
            "application/vnd.google.colaboratory.intrinsic+json": {
              "type": "dataframe",
              "variable_name": "df"
            },
            "text/html": [
              "\n",
              "  <div id=\"df-41a22913-70cc-4976-9f7f-35460686093e\" class=\"colab-df-container\">\n",
              "    <div>\n",
              "<style scoped>\n",
              "    .dataframe tbody tr th:only-of-type {\n",
              "        vertical-align: middle;\n",
              "    }\n",
              "\n",
              "    .dataframe tbody tr th {\n",
              "        vertical-align: top;\n",
              "    }\n",
              "\n",
              "    .dataframe thead th {\n",
              "        text-align: right;\n",
              "    }\n",
              "</style>\n",
              "<table border=\"1\" class=\"dataframe\">\n",
              "  <thead>\n",
              "    <tr style=\"text-align: right;\">\n",
              "      <th></th>\n",
              "      <th>course title</th>\n",
              "      <th>Rating</th>\n",
              "      <th>schedule</th>\n",
              "      <th>what you will learn</th>\n",
              "      <th>skill gain</th>\n",
              "      <th>modules</th>\n",
              "      <th>offered</th>\n",
              "      <th>Duration to complete (Approx.)</th>\n",
              "      <th>Number of Review</th>\n",
              "      <th>level_Advanced level</th>\n",
              "      <th>...</th>\n",
              "      <th>keyword_Business</th>\n",
              "      <th>keyword_Computer Science</th>\n",
              "      <th>keyword_DataScience</th>\n",
              "      <th>keyword_Health</th>\n",
              "      <th>keyword_Information Technology</th>\n",
              "      <th>keyword_Math and Logic</th>\n",
              "      <th>keyword_Personal Development</th>\n",
              "      <th>keyword_Physical Science and Engineering</th>\n",
              "      <th>keyword_Social Sciences</th>\n",
              "      <th>keyword_None</th>\n",
              "    </tr>\n",
              "  </thead>\n",
              "  <tbody>\n",
              "    <tr>\n",
              "      <th>0</th>\n",
              "      <td>380</td>\n",
              "      <td>4.8</td>\n",
              "      <td>0</td>\n",
              "      <td>352</td>\n",
              "      <td>31</td>\n",
              "      <td>439</td>\n",
              "      <td>82</td>\n",
              "      <td>20.0</td>\n",
              "      <td>2813.0</td>\n",
              "      <td>0.0</td>\n",
              "      <td>...</td>\n",
              "      <td>0.0</td>\n",
              "      <td>0.0</td>\n",
              "      <td>0.0</td>\n",
              "      <td>0.0</td>\n",
              "      <td>0.0</td>\n",
              "      <td>0.0</td>\n",
              "      <td>0.0</td>\n",
              "      <td>0.0</td>\n",
              "      <td>0.0</td>\n",
              "      <td>0.0</td>\n",
              "    </tr>\n",
              "    <tr>\n",
              "      <th>1</th>\n",
              "      <td>680</td>\n",
              "      <td>4.4</td>\n",
              "      <td>0</td>\n",
              "      <td>352</td>\n",
              "      <td>555</td>\n",
              "      <td>638</td>\n",
              "      <td>137</td>\n",
              "      <td>34.0</td>\n",
              "      <td>100.0</td>\n",
              "      <td>0.0</td>\n",
              "      <td>...</td>\n",
              "      <td>0.0</td>\n",
              "      <td>0.0</td>\n",
              "      <td>0.0</td>\n",
              "      <td>0.0</td>\n",
              "      <td>0.0</td>\n",
              "      <td>0.0</td>\n",
              "      <td>0.0</td>\n",
              "      <td>0.0</td>\n",
              "      <td>0.0</td>\n",
              "      <td>0.0</td>\n",
              "    </tr>\n",
              "    <tr>\n",
              "      <th>2</th>\n",
              "      <td>740</td>\n",
              "      <td>4.5</td>\n",
              "      <td>0</td>\n",
              "      <td>352</td>\n",
              "      <td>555</td>\n",
              "      <td>810</td>\n",
              "      <td>79</td>\n",
              "      <td>9.0</td>\n",
              "      <td>227.0</td>\n",
              "      <td>0.0</td>\n",
              "      <td>...</td>\n",
              "      <td>0.0</td>\n",
              "      <td>0.0</td>\n",
              "      <td>0.0</td>\n",
              "      <td>0.0</td>\n",
              "      <td>0.0</td>\n",
              "      <td>0.0</td>\n",
              "      <td>0.0</td>\n",
              "      <td>0.0</td>\n",
              "      <td>0.0</td>\n",
              "      <td>0.0</td>\n",
              "    </tr>\n",
              "    <tr>\n",
              "      <th>4</th>\n",
              "      <td>85</td>\n",
              "      <td>4.8</td>\n",
              "      <td>0</td>\n",
              "      <td>356</td>\n",
              "      <td>383</td>\n",
              "      <td>58</td>\n",
              "      <td>152</td>\n",
              "      <td>11.0</td>\n",
              "      <td>582.0</td>\n",
              "      <td>0.0</td>\n",
              "      <td>...</td>\n",
              "      <td>0.0</td>\n",
              "      <td>0.0</td>\n",
              "      <td>0.0</td>\n",
              "      <td>0.0</td>\n",
              "      <td>0.0</td>\n",
              "      <td>0.0</td>\n",
              "      <td>0.0</td>\n",
              "      <td>0.0</td>\n",
              "      <td>0.0</td>\n",
              "      <td>0.0</td>\n",
              "    </tr>\n",
              "    <tr>\n",
              "      <th>5</th>\n",
              "      <td>913</td>\n",
              "      <td>4.6</td>\n",
              "      <td>0</td>\n",
              "      <td>216</td>\n",
              "      <td>555</td>\n",
              "      <td>598</td>\n",
              "      <td>36</td>\n",
              "      <td>5.0</td>\n",
              "      <td>107.0</td>\n",
              "      <td>0.0</td>\n",
              "      <td>...</td>\n",
              "      <td>0.0</td>\n",
              "      <td>0.0</td>\n",
              "      <td>0.0</td>\n",
              "      <td>0.0</td>\n",
              "      <td>0.0</td>\n",
              "      <td>0.0</td>\n",
              "      <td>0.0</td>\n",
              "      <td>0.0</td>\n",
              "      <td>0.0</td>\n",
              "      <td>0.0</td>\n",
              "    </tr>\n",
              "    <tr>\n",
              "      <th>...</th>\n",
              "      <td>...</td>\n",
              "      <td>...</td>\n",
              "      <td>...</td>\n",
              "      <td>...</td>\n",
              "      <td>...</td>\n",
              "      <td>...</td>\n",
              "      <td>...</td>\n",
              "      <td>...</td>\n",
              "      <td>...</td>\n",
              "      <td>...</td>\n",
              "      <td>...</td>\n",
              "      <td>...</td>\n",
              "      <td>...</td>\n",
              "      <td>...</td>\n",
              "      <td>...</td>\n",
              "      <td>...</td>\n",
              "      <td>...</td>\n",
              "      <td>...</td>\n",
              "      <td>...</td>\n",
              "      <td>...</td>\n",
              "      <td>...</td>\n",
              "    </tr>\n",
              "    <tr>\n",
              "      <th>8380</th>\n",
              "      <td>72</td>\n",
              "      <td>0.0</td>\n",
              "      <td>0</td>\n",
              "      <td>25</td>\n",
              "      <td>28</td>\n",
              "      <td>13</td>\n",
              "      <td>32</td>\n",
              "      <td>12.0</td>\n",
              "      <td>0.0</td>\n",
              "      <td>0.0</td>\n",
              "      <td>...</td>\n",
              "      <td>0.0</td>\n",
              "      <td>0.0</td>\n",
              "      <td>0.0</td>\n",
              "      <td>0.0</td>\n",
              "      <td>0.0</td>\n",
              "      <td>0.0</td>\n",
              "      <td>0.0</td>\n",
              "      <td>0.0</td>\n",
              "      <td>1.0</td>\n",
              "      <td>0.0</td>\n",
              "    </tr>\n",
              "    <tr>\n",
              "      <th>8381</th>\n",
              "      <td>71</td>\n",
              "      <td>0.0</td>\n",
              "      <td>0</td>\n",
              "      <td>25</td>\n",
              "      <td>28</td>\n",
              "      <td>14</td>\n",
              "      <td>32</td>\n",
              "      <td>10.0</td>\n",
              "      <td>0.0</td>\n",
              "      <td>0.0</td>\n",
              "      <td>...</td>\n",
              "      <td>0.0</td>\n",
              "      <td>0.0</td>\n",
              "      <td>0.0</td>\n",
              "      <td>0.0</td>\n",
              "      <td>0.0</td>\n",
              "      <td>0.0</td>\n",
              "      <td>0.0</td>\n",
              "      <td>0.0</td>\n",
              "      <td>1.0</td>\n",
              "      <td>0.0</td>\n",
              "    </tr>\n",
              "    <tr>\n",
              "      <th>8382</th>\n",
              "      <td>15</td>\n",
              "      <td>0.0</td>\n",
              "      <td>0</td>\n",
              "      <td>25</td>\n",
              "      <td>12</td>\n",
              "      <td>9</td>\n",
              "      <td>32</td>\n",
              "      <td>9.0</td>\n",
              "      <td>0.0</td>\n",
              "      <td>0.0</td>\n",
              "      <td>...</td>\n",
              "      <td>0.0</td>\n",
              "      <td>0.0</td>\n",
              "      <td>0.0</td>\n",
              "      <td>0.0</td>\n",
              "      <td>0.0</td>\n",
              "      <td>0.0</td>\n",
              "      <td>0.0</td>\n",
              "      <td>0.0</td>\n",
              "      <td>1.0</td>\n",
              "      <td>0.0</td>\n",
              "    </tr>\n",
              "    <tr>\n",
              "      <th>8385</th>\n",
              "      <td>17</td>\n",
              "      <td>0.0</td>\n",
              "      <td>0</td>\n",
              "      <td>25</td>\n",
              "      <td>14</td>\n",
              "      <td>16</td>\n",
              "      <td>32</td>\n",
              "      <td>11.0</td>\n",
              "      <td>0.0</td>\n",
              "      <td>0.0</td>\n",
              "      <td>...</td>\n",
              "      <td>0.0</td>\n",
              "      <td>0.0</td>\n",
              "      <td>0.0</td>\n",
              "      <td>0.0</td>\n",
              "      <td>0.0</td>\n",
              "      <td>0.0</td>\n",
              "      <td>0.0</td>\n",
              "      <td>0.0</td>\n",
              "      <td>1.0</td>\n",
              "      <td>0.0</td>\n",
              "    </tr>\n",
              "    <tr>\n",
              "      <th>8388</th>\n",
              "      <td>82</td>\n",
              "      <td>0.0</td>\n",
              "      <td>1</td>\n",
              "      <td>19</td>\n",
              "      <td>20</td>\n",
              "      <td>42</td>\n",
              "      <td>8</td>\n",
              "      <td>2.0</td>\n",
              "      <td>0.0</td>\n",
              "      <td>0.0</td>\n",
              "      <td>...</td>\n",
              "      <td>0.0</td>\n",
              "      <td>0.0</td>\n",
              "      <td>0.0</td>\n",
              "      <td>0.0</td>\n",
              "      <td>0.0</td>\n",
              "      <td>0.0</td>\n",
              "      <td>0.0</td>\n",
              "      <td>0.0</td>\n",
              "      <td>1.0</td>\n",
              "      <td>0.0</td>\n",
              "    </tr>\n",
              "  </tbody>\n",
              "</table>\n",
              "<p>7085 rows × 33 columns</p>\n",
              "</div>\n",
              "    <div class=\"colab-df-buttons\">\n",
              "\n",
              "  <div class=\"colab-df-container\">\n",
              "    <button class=\"colab-df-convert\" onclick=\"convertToInteractive('df-41a22913-70cc-4976-9f7f-35460686093e')\"\n",
              "            title=\"Convert this dataframe to an interactive table.\"\n",
              "            style=\"display:none;\">\n",
              "\n",
              "  <svg xmlns=\"http://www.w3.org/2000/svg\" height=\"24px\" viewBox=\"0 -960 960 960\">\n",
              "    <path d=\"M120-120v-720h720v720H120Zm60-500h600v-160H180v160Zm220 220h160v-160H400v160Zm0 220h160v-160H400v160ZM180-400h160v-160H180v160Zm440 0h160v-160H620v160ZM180-180h160v-160H180v160Zm440 0h160v-160H620v160Z\"/>\n",
              "  </svg>\n",
              "    </button>\n",
              "\n",
              "  <style>\n",
              "    .colab-df-container {\n",
              "      display:flex;\n",
              "      gap: 12px;\n",
              "    }\n",
              "\n",
              "    .colab-df-convert {\n",
              "      background-color: #E8F0FE;\n",
              "      border: none;\n",
              "      border-radius: 50%;\n",
              "      cursor: pointer;\n",
              "      display: none;\n",
              "      fill: #1967D2;\n",
              "      height: 32px;\n",
              "      padding: 0 0 0 0;\n",
              "      width: 32px;\n",
              "    }\n",
              "\n",
              "    .colab-df-convert:hover {\n",
              "      background-color: #E2EBFA;\n",
              "      box-shadow: 0px 1px 2px rgba(60, 64, 67, 0.3), 0px 1px 3px 1px rgba(60, 64, 67, 0.15);\n",
              "      fill: #174EA6;\n",
              "    }\n",
              "\n",
              "    .colab-df-buttons div {\n",
              "      margin-bottom: 4px;\n",
              "    }\n",
              "\n",
              "    [theme=dark] .colab-df-convert {\n",
              "      background-color: #3B4455;\n",
              "      fill: #D2E3FC;\n",
              "    }\n",
              "\n",
              "    [theme=dark] .colab-df-convert:hover {\n",
              "      background-color: #434B5C;\n",
              "      box-shadow: 0px 1px 3px 1px rgba(0, 0, 0, 0.15);\n",
              "      filter: drop-shadow(0px 1px 2px rgba(0, 0, 0, 0.3));\n",
              "      fill: #FFFFFF;\n",
              "    }\n",
              "  </style>\n",
              "\n",
              "    <script>\n",
              "      const buttonEl =\n",
              "        document.querySelector('#df-41a22913-70cc-4976-9f7f-35460686093e button.colab-df-convert');\n",
              "      buttonEl.style.display =\n",
              "        google.colab.kernel.accessAllowed ? 'block' : 'none';\n",
              "\n",
              "      async function convertToInteractive(key) {\n",
              "        const element = document.querySelector('#df-41a22913-70cc-4976-9f7f-35460686093e');\n",
              "        const dataTable =\n",
              "          await google.colab.kernel.invokeFunction('convertToInteractive',\n",
              "                                                    [key], {});\n",
              "        if (!dataTable) return;\n",
              "\n",
              "        const docLinkHtml = 'Like what you see? Visit the ' +\n",
              "          '<a target=\"_blank\" href=https://colab.research.google.com/notebooks/data_table.ipynb>data table notebook</a>'\n",
              "          + ' to learn more about interactive tables.';\n",
              "        element.innerHTML = '';\n",
              "        dataTable['output_type'] = 'display_data';\n",
              "        await google.colab.output.renderOutput(dataTable, element);\n",
              "        const docLink = document.createElement('div');\n",
              "        docLink.innerHTML = docLinkHtml;\n",
              "        element.appendChild(docLink);\n",
              "      }\n",
              "    </script>\n",
              "  </div>\n",
              "\n",
              "\n",
              "<div id=\"df-900e5717-885e-4b72-b532-687cc1af40f8\">\n",
              "  <button class=\"colab-df-quickchart\" onclick=\"quickchart('df-900e5717-885e-4b72-b532-687cc1af40f8')\"\n",
              "            title=\"Suggest charts\"\n",
              "            style=\"display:none;\">\n",
              "\n",
              "<svg xmlns=\"http://www.w3.org/2000/svg\" height=\"24px\"viewBox=\"0 0 24 24\"\n",
              "     width=\"24px\">\n",
              "    <g>\n",
              "        <path d=\"M19 3H5c-1.1 0-2 .9-2 2v14c0 1.1.9 2 2 2h14c1.1 0 2-.9 2-2V5c0-1.1-.9-2-2-2zM9 17H7v-7h2v7zm4 0h-2V7h2v10zm4 0h-2v-4h2v4z\"/>\n",
              "    </g>\n",
              "</svg>\n",
              "  </button>\n",
              "\n",
              "<style>\n",
              "  .colab-df-quickchart {\n",
              "      --bg-color: #E8F0FE;\n",
              "      --fill-color: #1967D2;\n",
              "      --hover-bg-color: #E2EBFA;\n",
              "      --hover-fill-color: #174EA6;\n",
              "      --disabled-fill-color: #AAA;\n",
              "      --disabled-bg-color: #DDD;\n",
              "  }\n",
              "\n",
              "  [theme=dark] .colab-df-quickchart {\n",
              "      --bg-color: #3B4455;\n",
              "      --fill-color: #D2E3FC;\n",
              "      --hover-bg-color: #434B5C;\n",
              "      --hover-fill-color: #FFFFFF;\n",
              "      --disabled-bg-color: #3B4455;\n",
              "      --disabled-fill-color: #666;\n",
              "  }\n",
              "\n",
              "  .colab-df-quickchart {\n",
              "    background-color: var(--bg-color);\n",
              "    border: none;\n",
              "    border-radius: 50%;\n",
              "    cursor: pointer;\n",
              "    display: none;\n",
              "    fill: var(--fill-color);\n",
              "    height: 32px;\n",
              "    padding: 0;\n",
              "    width: 32px;\n",
              "  }\n",
              "\n",
              "  .colab-df-quickchart:hover {\n",
              "    background-color: var(--hover-bg-color);\n",
              "    box-shadow: 0 1px 2px rgba(60, 64, 67, 0.3), 0 1px 3px 1px rgba(60, 64, 67, 0.15);\n",
              "    fill: var(--button-hover-fill-color);\n",
              "  }\n",
              "\n",
              "  .colab-df-quickchart-complete:disabled,\n",
              "  .colab-df-quickchart-complete:disabled:hover {\n",
              "    background-color: var(--disabled-bg-color);\n",
              "    fill: var(--disabled-fill-color);\n",
              "    box-shadow: none;\n",
              "  }\n",
              "\n",
              "  .colab-df-spinner {\n",
              "    border: 2px solid var(--fill-color);\n",
              "    border-color: transparent;\n",
              "    border-bottom-color: var(--fill-color);\n",
              "    animation:\n",
              "      spin 1s steps(1) infinite;\n",
              "  }\n",
              "\n",
              "  @keyframes spin {\n",
              "    0% {\n",
              "      border-color: transparent;\n",
              "      border-bottom-color: var(--fill-color);\n",
              "      border-left-color: var(--fill-color);\n",
              "    }\n",
              "    20% {\n",
              "      border-color: transparent;\n",
              "      border-left-color: var(--fill-color);\n",
              "      border-top-color: var(--fill-color);\n",
              "    }\n",
              "    30% {\n",
              "      border-color: transparent;\n",
              "      border-left-color: var(--fill-color);\n",
              "      border-top-color: var(--fill-color);\n",
              "      border-right-color: var(--fill-color);\n",
              "    }\n",
              "    40% {\n",
              "      border-color: transparent;\n",
              "      border-right-color: var(--fill-color);\n",
              "      border-top-color: var(--fill-color);\n",
              "    }\n",
              "    60% {\n",
              "      border-color: transparent;\n",
              "      border-right-color: var(--fill-color);\n",
              "    }\n",
              "    80% {\n",
              "      border-color: transparent;\n",
              "      border-right-color: var(--fill-color);\n",
              "      border-bottom-color: var(--fill-color);\n",
              "    }\n",
              "    90% {\n",
              "      border-color: transparent;\n",
              "      border-bottom-color: var(--fill-color);\n",
              "    }\n",
              "  }\n",
              "</style>\n",
              "\n",
              "  <script>\n",
              "    async function quickchart(key) {\n",
              "      const quickchartButtonEl =\n",
              "        document.querySelector('#' + key + ' button');\n",
              "      quickchartButtonEl.disabled = true;  // To prevent multiple clicks.\n",
              "      quickchartButtonEl.classList.add('colab-df-spinner');\n",
              "      try {\n",
              "        const charts = await google.colab.kernel.invokeFunction(\n",
              "            'suggestCharts', [key], {});\n",
              "      } catch (error) {\n",
              "        console.error('Error during call to suggestCharts:', error);\n",
              "      }\n",
              "      quickchartButtonEl.classList.remove('colab-df-spinner');\n",
              "      quickchartButtonEl.classList.add('colab-df-quickchart-complete');\n",
              "    }\n",
              "    (() => {\n",
              "      let quickchartButtonEl =\n",
              "        document.querySelector('#df-900e5717-885e-4b72-b532-687cc1af40f8 button');\n",
              "      quickchartButtonEl.style.display =\n",
              "        google.colab.kernel.accessAllowed ? 'block' : 'none';\n",
              "    })();\n",
              "  </script>\n",
              "</div>\n",
              "    </div>\n",
              "  </div>\n"
            ],
            "text/plain": [
              "      course title Rating  schedule  what you will learn  skill gain  modules  \\\n",
              "0              380    4.8         0                  352          31      439   \n",
              "1              680    4.4         0                  352         555      638   \n",
              "2              740    4.5         0                  352         555      810   \n",
              "4               85    4.8         0                  356         383       58   \n",
              "5              913    4.6         0                  216         555      598   \n",
              "...            ...    ...       ...                  ...         ...      ...   \n",
              "8380            72    0.0         0                   25          28       13   \n",
              "8381            71    0.0         0                   25          28       14   \n",
              "8382            15    0.0         0                   25          12        9   \n",
              "8385            17    0.0         0                   25          14       16   \n",
              "8388            82    0.0         1                   19          20       42   \n",
              "\n",
              "      offered  Duration to complete (Approx.)  Number of Review  \\\n",
              "0          82                            20.0            2813.0   \n",
              "1         137                            34.0             100.0   \n",
              "2          79                             9.0             227.0   \n",
              "4         152                            11.0             582.0   \n",
              "5          36                             5.0             107.0   \n",
              "...       ...                             ...               ...   \n",
              "8380       32                            12.0               0.0   \n",
              "8381       32                            10.0               0.0   \n",
              "8382       32                             9.0               0.0   \n",
              "8385       32                            11.0               0.0   \n",
              "8388        8                             2.0               0.0   \n",
              "\n",
              "      level_Advanced level  ...  keyword_Business  keyword_Computer Science  \\\n",
              "0                      0.0  ...               0.0                       0.0   \n",
              "1                      0.0  ...               0.0                       0.0   \n",
              "2                      0.0  ...               0.0                       0.0   \n",
              "4                      0.0  ...               0.0                       0.0   \n",
              "5                      0.0  ...               0.0                       0.0   \n",
              "...                    ...  ...               ...                       ...   \n",
              "8380                   0.0  ...               0.0                       0.0   \n",
              "8381                   0.0  ...               0.0                       0.0   \n",
              "8382                   0.0  ...               0.0                       0.0   \n",
              "8385                   0.0  ...               0.0                       0.0   \n",
              "8388                   0.0  ...               0.0                       0.0   \n",
              "\n",
              "      keyword_DataScience  keyword_Health  keyword_Information Technology  \\\n",
              "0                     0.0             0.0                             0.0   \n",
              "1                     0.0             0.0                             0.0   \n",
              "2                     0.0             0.0                             0.0   \n",
              "4                     0.0             0.0                             0.0   \n",
              "5                     0.0             0.0                             0.0   \n",
              "...                   ...             ...                             ...   \n",
              "8380                  0.0             0.0                             0.0   \n",
              "8381                  0.0             0.0                             0.0   \n",
              "8382                  0.0             0.0                             0.0   \n",
              "8385                  0.0             0.0                             0.0   \n",
              "8388                  0.0             0.0                             0.0   \n",
              "\n",
              "      keyword_Math and Logic  keyword_Personal Development  \\\n",
              "0                        0.0                           0.0   \n",
              "1                        0.0                           0.0   \n",
              "2                        0.0                           0.0   \n",
              "4                        0.0                           0.0   \n",
              "5                        0.0                           0.0   \n",
              "...                      ...                           ...   \n",
              "8380                     0.0                           0.0   \n",
              "8381                     0.0                           0.0   \n",
              "8382                     0.0                           0.0   \n",
              "8385                     0.0                           0.0   \n",
              "8388                     0.0                           0.0   \n",
              "\n",
              "      keyword_Physical Science and Engineering  keyword_Social Sciences  \\\n",
              "0                                          0.0                      0.0   \n",
              "1                                          0.0                      0.0   \n",
              "2                                          0.0                      0.0   \n",
              "4                                          0.0                      0.0   \n",
              "5                                          0.0                      0.0   \n",
              "...                                        ...                      ...   \n",
              "8380                                       0.0                      1.0   \n",
              "8381                                       0.0                      1.0   \n",
              "8382                                       0.0                      1.0   \n",
              "8385                                       0.0                      1.0   \n",
              "8388                                       0.0                      1.0   \n",
              "\n",
              "      keyword_None  \n",
              "0              0.0  \n",
              "1              0.0  \n",
              "2              0.0  \n",
              "4              0.0  \n",
              "5              0.0  \n",
              "...            ...  \n",
              "8380           0.0  \n",
              "8381           0.0  \n",
              "8382           0.0  \n",
              "8385           0.0  \n",
              "8388           0.0  \n",
              "\n",
              "[7085 rows x 33 columns]"
            ]
          },
          "execution_count": 272,
          "metadata": {},
          "output_type": "execute_result"
        }
      ],
      "source": [
        "df"
      ]
    },
    {
      "cell_type": "markdown",
      "metadata": {
        "id": "fDoGDogY9J9v"
      },
      "source": [
        "### ***`BestDecisionTree_Result`***"
      ]
    },
    {
      "cell_type": "code",
      "execution_count": 273,
      "metadata": {
        "colab": {
          "base_uri": "https://localhost:8080/"
        },
        "id": "wVYSyt5D9Pkc",
        "outputId": "7d5c5445-2a00-4237-ba41-1cebdea54980"
      },
      "outputs": [
        {
          "name": "stdout",
          "output_type": "stream",
          "text": [
            "Mean Squared Error: 0.03844268060742643\n",
            "Mean Absolute Error: 0.12727769831787555\n",
            "Train Score: 0.9826776874691193\n",
            "Test Score: 0.9847796759856229\n",
            "Predicted Values:\n",
            "[4.47878788 0.         4.45106383 0.         4.60063559 4.71137287\n",
            " 4.71137287 4.65437352 4.71137287 4.45106383 4.65437352 4.71529412\n",
            " 4.71137287 4.60412017 4.60412017]\n"
          ]
        }
      ],
      "source": [
        "from sklearn.tree import DecisionTreeRegressor\n",
        "from sklearn.model_selection import train_test_split\n",
        "from sklearn.metrics import mean_squared_error, mean_absolute_error\n",
        "\n",
        "# Assuming 'Schedule' is the feature column and 'Rating' is the target column\n",
        "X = df.loc[:, df.columns != 'Rating']\n",
        "y = df['Rating']\n",
        "\n",
        "# Split the data into training and testing sets\n",
        "X_train, X_test, y_train, y_test = train_test_split(X, y, test_size=0.2, random_state=42)\n",
        "\n",
        "# Instantiate and fit the Decision Tree Regression model\n",
        "regressor = DecisionTreeRegressor(max_depth=5, min_samples_split=10, random_state=42)\n",
        "regressor.fit(X_train, y_train)\n",
        "\n",
        "# Predict on the test set\n",
        "y_pred = regressor.predict(X_test)\n",
        "\n",
        "# Evaluate the model using mean squared error and mean absolute error\n",
        "mse = mean_squared_error(y_test, y_pred)\n",
        "mae = mean_absolute_error(y_test, y_pred)\n",
        "\n",
        "print(\"Mean Squared Error:\", mse)\n",
        "print(\"Mean Absolute Error:\", mae)\n",
        "\n",
        "# Calculate train and test scores\n",
        "train_score = regressor.score(X_train, y_train)\n",
        "test_score = regressor.score(X_test, y_test)\n",
        "\n",
        "print(\"Train Score:\", train_score)\n",
        "print(\"Test Score:\", test_score)\n",
        "\n",
        "# Print the first 5 predicted values\n",
        "print(\"Predicted Values:\")\n",
        "print(y_pred[:15])"
      ]
    },
    {
      "cell_type": "code",
      "execution_count": 274,
      "metadata": {
        "colab": {
          "base_uri": "https://localhost:8080/"
        },
        "id": "GMsnV3rRR_Yo",
        "outputId": "9a765c2a-917c-4d10-bda4-08afed04c895"
      },
      "outputs": [
        {
          "name": "stdout",
          "output_type": "stream",
          "text": [
            "Train Accuracy: 0.9826776874691193\n",
            "Test Accuracy: 0.9847796759856229\n",
            "Train Mean Absolute Error (MAE): 0.13176859221016762\n",
            "Test Mean Absolute Error (MAE): 0.12727769831787555\n",
            "Train Mean Squared Error (MSE): 0.042016530436315654\n",
            "Test Mean Squared Error (MSE): 0.03844268060742643\n",
            "Train R-squared: 0.9826776874691193\n",
            "Test R-squared: 0.9847796759856229\n",
            "Predicted Values:\n",
            "[4.47878788 0.         4.45106383 0.         4.60063559 4.71137287\n",
            " 4.71137287 4.65437352 4.71137287 4.45106383 4.65437352 4.71529412\n",
            " 4.71137287 4.60412017 4.60412017 4.60412017 4.6425     4.60412017\n",
            " 0.         4.71137287 4.65437352 4.65437352 0.         4.71137287\n",
            " 4.65437352 4.47878788 4.60412017 4.60412017 4.65437352 4.71137287\n",
            " 4.65437352 4.71137287 4.65437352 4.71137287 4.71137287 4.60412017\n",
            " 4.65437352 4.71137287 4.60412017 4.65437352 4.65437352 4.60412017\n",
            " 4.71137287 0.         4.65437352 4.60063559 0.         4.71137287\n",
            " 4.60063559 4.47913043]\n"
          ]
        }
      ],
      "source": [
        "from sklearn.tree import DecisionTreeRegressor\n",
        "from sklearn.model_selection import train_test_split\n",
        "from sklearn.metrics import mean_squared_error, mean_absolute_error, r2_score\n",
        "\n",
        "# Assuming 'Schedule' is the feature column and 'Rating' is the target column\n",
        "X = df.loc[:, df.columns != 'Rating']\n",
        "y = df['Rating']\n",
        "\n",
        "# Split the data into training and testing sets\n",
        "X_train, X_test, y_train, y_test = train_test_split(X, y, test_size=0.2, random_state=42)\n",
        "\n",
        "# Instantiate and fit the Decision Tree Regression model\n",
        "regressor = DecisionTreeRegressor(max_depth=5, min_samples_split=10, random_state=42)\n",
        "regressor.fit(X_train, y_train)\n",
        "\n",
        "# Predict on the test set\n",
        "y_pred = regressor.predict(X_test)\n",
        "\n",
        "# Evaluate the model using mean squared error and mean absolute error\n",
        "mse_train = mean_squared_error(y_train, regressor.predict(X_train))\n",
        "mse_test = mean_squared_error(y_test, y_pred)\n",
        "mae_train = mean_absolute_error(y_train, regressor.predict(X_train))\n",
        "mae_test = mean_absolute_error(y_test, y_pred)\n",
        "r2_train = r2_score(y_train, regressor.predict(X_train))\n",
        "r2_test = r2_score(y_test, y_pred)\n",
        "\n",
        "print(\"Train Accuracy:\", regressor.score(X_train, y_train))\n",
        "print(\"Test Accuracy:\", regressor.score(X_test, y_test))\n",
        "print(\"Train Mean Absolute Error (MAE):\", mae_train)\n",
        "print(\"Test Mean Absolute Error (MAE):\", mae_test)\n",
        "print(\"Train Mean Squared Error (MSE):\", mse_train)\n",
        "print(\"Test Mean Squared Error (MSE):\", mse_test)\n",
        "print(\"Train R-squared:\", r2_train)\n",
        "print(\"Test R-squared:\", r2_test)\n",
        "\n",
        "print(\"Predicted Values:\")\n",
        "print(y_pred[:50])"
      ]
    },
    {
      "cell_type": "code",
      "execution_count": 232,
      "metadata": {
        "colab": {
          "base_uri": "https://localhost:8080/"
        },
        "id": "iF6rRkKZuSEJ",
        "outputId": "e61b36de-5254-480c-9691-c5730a5a4112"
      },
      "outputs": [
        {
          "name": "stdout",
          "output_type": "stream",
          "text": [
            "Test Mean Squared Error: 0.04176265911235811\n",
            "Test Mean Absolute Error: 0.12975931891892337\n",
            "Train Mean Squared Error: 0.04162198839570292\n",
            "Train Mean Absolute Error: 0.131214935488345\n",
            "Train R-squared: 0.9827068408164457\n",
            "Test R-squared: 0.9839351240256924\n",
            "Train Score: 0.9827068408164457\n",
            "Test Score: 0.9839351240256924\n",
            "First 5 Predicted Values on Test Set:\n",
            "[4.62712238 4.67445601 0.         4.62712238 4.67445601]\n"
          ]
        }
      ],
      "source": [
        "import pandas as pd\n",
        "from sklearn.tree import DecisionTreeRegressor\n",
        "from sklearn.model_selection import train_test_split\n",
        "from sklearn.metrics import mean_squared_error, mean_absolute_error, r2_score\n",
        "\n",
        "# Assuming 'Schedule' is the feature column and 'Rating' is the target column\n",
        "X = df.loc[:, df.columns != 'Rating']\n",
        "y = df['Rating']\n",
        "\n",
        "# Split the data into training and testing sets\n",
        "X_train, X_test, y_train, y_test = train_test_split(X, y, test_size=0.2, random_state=42)\n",
        "\n",
        "# Instantiate and fit the Decision Tree Regression model\n",
        "regressor = DecisionTreeRegressor(max_depth=5, min_samples_split=10, random_state=42)\n",
        "regressor.fit(X_train, y_train)\n",
        "\n",
        "# Predict on the test set\n",
        "y_test_pred = regressor.predict(X_test)\n",
        "y_train_pred = regressor.predict(X_train)\n",
        "\n",
        "# Evaluate the model using mean squared error and mean absolute error\n",
        "test_mse = mean_squared_error(y_test, y_test_pred)\n",
        "test_mae = mean_absolute_error(y_test, y_test_pred)\n",
        "train_mse = mean_squared_error(y_train, y_train_pred)\n",
        "train_mae = mean_absolute_error(y_train, y_train_pred)\n",
        "\n",
        "print(\"Test Mean Squared Error:\", test_mse)\n",
        "print(\"Test Mean Absolute Error:\", test_mae)\n",
        "print(\"Train Mean Squared Error:\", train_mse)\n",
        "print(\"Train Mean Absolute Error:\", train_mae)\n",
        "\n",
        "# Calculate R-squared for train and test sets\n",
        "train_r2 = r2_score(y_train, y_train_pred)\n",
        "test_r2 = r2_score(y_test, y_test_pred)\n",
        "\n",
        "print(\"Train R-squared:\", train_r2)\n",
        "print(\"Test R-squared:\", test_r2)\n",
        "\n",
        "# Calculate train and test scores (R-squared)\n",
        "train_score = regressor.score(X_train, y_train)\n",
        "test_score = regressor.score(X_test, y_test)\n",
        "\n",
        "print(\"Train Score:\", train_score)\n",
        "print(\"Test Score:\", test_score)\n",
        "\n",
        "# Print the first 5 predicted values\n",
        "print(\"First 5 Predicted Values on Test Set:\")\n",
        "print(y_test_pred[:5])"
      ]
    },
    {
      "cell_type": "code",
      "execution_count": 233,
      "metadata": {
        "colab": {
          "base_uri": "https://localhost:8080/"
        },
        "id": "9ObfyYVuKAwN",
        "outputId": "76f2efa7-74ed-4b3e-f48d-4ff520b2f5bc"
      },
      "outputs": [
        {
          "name": "stdout",
          "output_type": "stream",
          "text": [
            "     Actual  Predicted\n",
            "3327    4.4   4.627122\n",
            "8031    4.6   4.674456\n",
            "818     0.0   0.000000\n",
            "7301    4.8   4.627122\n",
            "7033    4.7   4.674456\n",
            "2946    4.8   4.674456\n",
            "502     4.4   4.627122\n",
            "7664    4.8   4.674456\n",
            "3074    4.7   4.711769\n",
            "6867    4.3   4.627122\n",
            "3230    4.1   4.674456\n",
            "4129    4.6   4.607210\n",
            "7568    4.7   4.711769\n",
            "7983    3.9   4.607210\n",
            "4205    4.7   4.607210\n",
            "1145    4.8   4.607210\n",
            "1457    4.7   4.711769\n",
            "6252    4.4   4.627122\n",
            "1352    4.7   4.711769\n",
            "5369    4.7   4.627122\n"
          ]
        }
      ],
      "source": [
        "import pandas as pd\n",
        "\n",
        "# Create a DataFrame with the actual and predicted values\n",
        "test_results = pd.DataFrame({\n",
        "    'Actual': y_test,\n",
        "    'Predicted': y_pred\n",
        "})\n",
        "\n",
        "# Display the first 10 rows\n",
        "print(test_results.head(20))"
      ]
    },
    {
      "cell_type": "code",
      "execution_count": 234,
      "metadata": {
        "colab": {
          "base_uri": "https://localhost:8080/"
        },
        "id": "0DxiHyuTLTHR",
        "outputId": "36fe84f1-e8af-4fb2-fbde-d424b2e2f6ac"
      },
      "outputs": [
        {
          "name": "stdout",
          "output_type": "stream",
          "text": [
            "     Actual  Predicted\n",
            "3327    4.4   4.627122\n",
            "8031    4.6   4.674456\n",
            "818     0.0   0.000000\n",
            "7301    4.8   4.627122\n",
            "7033    4.7   4.674456\n",
            "2946    4.8   4.674456\n",
            "502     4.4   4.627122\n",
            "7664    4.8   4.674456\n",
            "3074    4.7   4.711769\n",
            "6867    4.3   4.627122\n",
            "3230    4.1   4.674456\n",
            "4129    4.6   4.607210\n",
            "7568    4.7   4.711769\n",
            "7983    3.9   4.607210\n",
            "4205    4.7   4.607210\n",
            "1145    4.8   4.607210\n",
            "1457    4.7   4.711769\n",
            "6252    4.4   4.627122\n",
            "1352    4.7   4.711769\n",
            "5369    4.7   4.627122\n",
            "2976    4.3   4.674456\n",
            "2113    4.8   4.627122\n",
            "5151    4.5   4.455208\n",
            "6053    4.7   4.674456\n",
            "1571    4.7   4.674456\n",
            "2980    4.6   4.674456\n",
            "4175    4.5   4.607210\n",
            "3626    4.7   4.674456\n",
            "3262    4.8   4.627122\n",
            "1051    4.6   4.711769\n"
          ]
        }
      ],
      "source": [
        "import pandas as pd\n",
        "\n",
        "# Predict on the test set\n",
        "y_pred = regressor.predict(X_test)\n",
        "\n",
        "# Create a DataFrame with the actual and predicted values\n",
        "test_results = pd.DataFrame({\n",
        "    'Actual': y_test,\n",
        "    'Predicted': y_pred\n",
        "})\n",
        "\n",
        "# Display the first 10 rows\n",
        "print(test_results.head(30))"
      ]
    },
    {
      "cell_type": "code",
      "execution_count": 235,
      "metadata": {
        "colab": {
          "base_uri": "https://localhost:8080/"
        },
        "id": "fdwAcyLIHJA9",
        "outputId": "07cf204d-ee6f-41eb-ca28-bffc73fff3fc"
      },
      "outputs": [
        {
          "name": "stdout",
          "output_type": "stream",
          "text": [
            "Train R-squared: 0.9827068408164457\n",
            "Test R-squared: 0.9839351240256924\n"
          ]
        }
      ],
      "source": [
        "from sklearn.metrics import r2_score\n",
        "\n",
        "# Predict on the test set\n",
        "y_pred = regressor.predict(X_test)\n",
        "\n",
        "# Calculate R-squared for the train and test sets\n",
        "train_r2 = r2_score(y_train, regressor.predict(X_train))\n",
        "test_r2 = r2_score(y_test, y_pred)\n",
        "\n",
        "print(\"Train R-squared:\", train_r2)\n",
        "print(\"Test R-squared:\", test_r2)"
      ]
    },
    {
      "cell_type": "code",
      "execution_count": 237,
      "metadata": {
        "colab": {
          "base_uri": "https://localhost:8080/"
        },
        "id": "_6Uu_Vi9Qv93",
        "outputId": "90c2900d-b37b-4efc-b737-4895d2278a95"
      },
      "outputs": [
        {
          "name": "stdout",
          "output_type": "stream",
          "text": [
            "Predicted Values:\n",
            "[4.75]\n"
          ]
        },
        {
          "name": "stderr",
          "output_type": "stream",
          "text": [
            "/usr/local/lib/python3.10/dist-packages/sklearn/metrics/_regression.py:918: UndefinedMetricWarning: R^2 score is not well-defined with less than two samples.\n",
            "  warnings.warn(msg, UndefinedMetricWarning)\n"
          ]
        }
      ],
      "source": [
        "import pandas as pd\n",
        "from sklearn.tree import DecisionTreeRegressor\n",
        "from sklearn.model_selection import train_test_split\n",
        "from sklearn.metrics import mean_squared_error, mean_absolute_error, r2_score\n",
        "\n",
        "# Example DataFrame with more samples for demonstration purposes\n",
        "df = pd.DataFrame({\n",
        "    'course title': ['Fashion as Design', 'Basic Elements of Design: Design Principles and Software Overview',\n",
        "                     'Introduction to Python', 'Advanced Machine Learning', 'Data Science Fundamentals'],\n",
        "    'what you will learn': ['Not specified', 'Recognize ways to work with graphic designers and other creative professionals.',\n",
        "                            'Learn Python basics', 'Advanced machine learning concepts', 'Fundamentals of data science'],\n",
        "    'skill gain': ['Art History, Art, History, Creativity', 'Print Design, online design, Color Theory, Graphic Design, textual elements',\n",
        "                   'Programming, Python', 'Machine Learning, AI', 'Data Science, Statistics'],\n",
        "    'modules': ['Introduction, Heroes, Silhouettes, Coutures, Lifecycle, Modesty, Expression',\n",
        "                'What is Graphic Design?, Elements of Design, Basic Concepts of Design',\n",
        "                'Introduction, Variables, Data Types, Loops, Functions',\n",
        "                'Supervised Learning, Unsupervised Learning, Neural Networks',\n",
        "                'Statistics, Data Cleaning, Data Visualization'],\n",
        "    'Duration to complete (Approx.)': ['20', '10', '15', '30', '25'],\n",
        "    'Number of Review': [2813, 925, 1500, 1800, 1600],\n",
        "    'instructor': ['Anna Burckhardt, Paola Antonelli, Michelle Millar Fisher, Stephanie Kramer',\n",
        "                   'Lori Poole',\n",
        "                   'John Doe',\n",
        "                   'Jane Smith',\n",
        "                   'Alice Johnson'],\n",
        "    'offered': ['The Museum of Modern Art', 'University of Colorado Boulder',\n",
        "                'Online Learning Platform', 'Tech University', 'Data Institute'],\n",
        "    'Rating': [4.8, 4.7, 4.6, 4.9, 4.7]\n",
        "})\n",
        "\n",
        "# Specify the text columns to apply TF-IDF\n",
        "text_columns = ['course title', 'what you will learn', 'skill gain', 'modules', 'instructor', 'offered']\n",
        "\n",
        "# Combine text columns into a single column\n",
        "df['combined_text'] = df[text_columns].apply(lambda x: ' '.join(x), axis=1)\n",
        "\n",
        "# Initialize the TF-IDF vectorizer\n",
        "tfidf_vectorizer = TfidfVectorizer()\n",
        "\n",
        "# Transform the combined text data to TF-IDF features\n",
        "X_tfidf = tfidf_vectorizer.fit_transform(df['combined_text'])\n",
        "\n",
        "# Convert TF-IDF features to a DataFrame\n",
        "X_tfidf_df = pd.DataFrame(X_tfidf.toarray(), columns=tfidf_vectorizer.get_feature_names_out())\n",
        "\n",
        "# Define the target variable\n",
        "y = df['Rating']\n",
        "\n",
        "# Split the data into training and testing sets\n",
        "X_train, X_test, y_train, y_test = train_test_split(X_tfidf_df, y, test_size=0.2, random_state=42)\n",
        "\n",
        "# Initialize the Decision Tree Regressor\n",
        "regressor = DecisionTreeRegressor(max_depth=5, min_samples_split=10, random_state=42)\n",
        "\n",
        "# Train the model\n",
        "regressor.fit(X_train, y_train)\n",
        "\n",
        "# Make predictions on the test set\n",
        "y_pred = regressor.predict(X_test)\n",
        "\n",
        "# Evaluate the model\n",
        "mse_train = mean_squared_error(y_train, regressor.predict(X_train))\n",
        "mse_test = mean_squared_error(y_test, y_pred)\n",
        "mae_train = mean_absolute_error(y_train, regressor.predict(X_train))\n",
        "mae_test = mean_absolute_error(y_test, y_pred)\n",
        "r2_train = r2_score(y_train, regressor.predict(X_train))\n",
        "r2_test = r2_score(y_test, y_pred)\n",
        "\n",
        "print(\"Predicted Values:\")\n",
        "print(y_pred[:50])\n"
      ]
    },
    {
      "cell_type": "code",
      "execution_count": 239,
      "metadata": {
        "colab": {
          "base_uri": "https://localhost:8080/"
        },
        "id": "8Ox5BJBimrut",
        "outputId": "0e430036-efde-4cd7-c70c-f1a5dadf66ec"
      },
      "outputs": [
        {
          "name": "stdout",
          "output_type": "stream",
          "text": [
            "Predicted Values:\n",
            "[4.74969356]\n",
            "Mean Squared Error (Train): 0.006159339415114812\n",
            "Mean Squared Error (Test): 0.0024694503350349254\n",
            "Mean Absolute Error (Train): 0.0739741106104006\n",
            "Mean Absolute Error (Test): 0.04969356432210237\n"
          ]
        },
        {
          "name": "stderr",
          "output_type": "stream",
          "text": [
            "[nltk_data] Downloading package stopwords to /root/nltk_data...\n",
            "[nltk_data]   Package stopwords is already up-to-date!\n",
            "[nltk_data] Downloading package punkt to /root/nltk_data...\n",
            "[nltk_data]   Package punkt is already up-to-date!\n",
            "/usr/local/lib/python3.10/dist-packages/sklearn/metrics/_regression.py:918: UndefinedMetricWarning: R^2 score is not well-defined with less than two samples.\n",
            "  warnings.warn(msg, UndefinedMetricWarning)\n"
          ]
        }
      ],
      "source": [
        "import pandas as pd\n",
        "from sklearn.model_selection import train_test_split\n",
        "from sklearn.svm import SVR\n",
        "from sklearn.metrics import mean_squared_error, mean_absolute_error, r2_score\n",
        "from sklearn.feature_extraction.text import TfidfVectorizer\n",
        "import nltk\n",
        "from nltk.tokenize import word_tokenize\n",
        "from nltk.corpus import stopwords\n",
        "from collections import Counter\n",
        "\n",
        "# Download necessary NLTK data\n",
        "nltk.download('stopwords')\n",
        "nltk.download('punkt')\n",
        "\n",
        "# Assuming df is already loaded dataframe\n",
        "# Example DataFrame with more samples for demonstration purposes\n",
        "df = pd.DataFrame({\n",
        "    'course title': ['Fashion as Design', 'Basic Elements of Design: Design Principles and Software Overview',\n",
        "                     'Introduction to Python', 'Advanced Machine Learning', 'Data Science Fundamentals'],\n",
        "    'what you will learn': ['Not specified', 'Recognize ways to work with graphic designers and other creative professionals.',\n",
        "                            'Learn Python basics', 'Advanced machine learning concepts', 'Fundamentals of data science'],\n",
        "    'skill gain': ['Art History, Art, History, Creativity', 'Print Design, online design, Color Theory, Graphic Design, textual elements',\n",
        "                   'Programming, Python', 'Machine Learning, AI', 'Data Science, Statistics'],\n",
        "    'modules': ['Introduction, Heroes, Silhouettes, Coutures, Lifecycle, Modesty, Expression',\n",
        "                'What is Graphic Design?, Elements of Design, Basic Concepts of Design',\n",
        "                'Introduction, Variables, Data Types, Loops, Functions',\n",
        "                'Supervised Learning, Unsupervised Learning, Neural Networks',\n",
        "                'Statistics, Data Cleaning, Data Visualization'],\n",
        "    'Duration to complete (Approx.)': ['20', '10', '15', '30', '25'],\n",
        "    'Number of Review': [2813, 925, 1500, 1800, 1600],\n",
        "    'instructor': ['Anna Burckhardt, Paola Antonelli, Michelle Millar Fisher, Stephanie Kramer',\n",
        "                   'Lori Poole',\n",
        "                   'John Doe',\n",
        "                   'Jane Smith',\n",
        "                   'Alice Johnson'],\n",
        "    'offered': ['The Museum of Modern Art', 'University of Colorado Boulder',\n",
        "                'Online Learning Platform', 'Tech University', 'Data Institute'],\n",
        "    'Rating': [4.8, 4.7, 4.6, 4.9, 4.7]\n",
        "})\n",
        "\n",
        "# Specify the text columns to apply TF-IDF\n",
        "text_columns = ['course title', 'what you will learn', 'skill gain', 'modules', 'instructor', 'offered']\n",
        "\n",
        "# Combine text columns into a single column\n",
        "df['combined_text'] = df[text_columns].apply(lambda x: ' '.join(x), axis=1)\n",
        "\n",
        "# Initialize the TF-IDF vectorizer\n",
        "tfidf_vectorizer = TfidfVectorizer()\n",
        "\n",
        "# Transform the combined text data to TF-IDF features\n",
        "X_tfidf = tfidf_vectorizer.fit_transform(df['combined_text'])\n",
        "\n",
        "# Convert TF-IDF features to a DataFrame\n",
        "X_tfidf_df = pd.DataFrame(X_tfidf.toarray(), columns=tfidf_vectorizer.get_feature_names_out())\n",
        "\n",
        "# Define the target variable\n",
        "y = df['Rating']\n",
        "\n",
        "# Split the data into training and testing sets\n",
        "X_train, X_test, y_train, y_test = train_test_split(X_tfidf_df, y, test_size=0.2, random_state=42)\n",
        "\n",
        "# Initialize the SVR model\n",
        "regressor = SVR(kernel='rbf', C=100, gamma='auto', epsilon=0.1)\n",
        "\n",
        "# Train the model\n",
        "regressor.fit(X_train, y_train)\n",
        "\n",
        "# Make predictions on the test set\n",
        "y_pred = regressor.predict(X_test)\n",
        "\n",
        "# Evaluate the model\n",
        "mse_train = mean_squared_error(y_train, regressor.predict(X_train))\n",
        "mse_test = mean_squared_error(y_test, y_pred)\n",
        "mae_train = mean_absolute_error(y_train, regressor.predict(X_train))\n",
        "mae_test = mean_absolute_error(y_test, y_pred)\n",
        "r2_train = r2_score(y_train, regressor.predict(X_train))\n",
        "r2_test = r2_score(y_test, y_pred)\n",
        "\n",
        "print(\"Predicted Values:\")\n",
        "print(y_pred[:5])\n",
        "print(\"Mean Squared Error (Train):\", mse_train)\n",
        "print(\"Mean Squared Error (Test):\", mse_test)\n",
        "print(\"Mean Absolute Error (Train):\", mae_train)\n",
        "print(\"Mean Absolute Error (Test):\", mae_test)\n",
        "\n"
      ]
    },
    {
      "cell_type": "code",
      "execution_count": 240,
      "metadata": {
        "colab": {
          "base_uri": "https://localhost:8080/"
        },
        "id": "IO3fGYn6neUs",
        "outputId": "c8301cc2-c9fa-4fc8-e3cc-fcf008ce7f7a"
      },
      "outputs": [
        {
          "name": "stdout",
          "output_type": "stream",
          "text": [
            "Predicted Values:\n",
            "Prediction 1: 4.7496935643221025\n",
            "Mean Squared Error (Train): 0.006159339415114812\n",
            "Mean Squared Error (Test): 0.0024694503350349254\n",
            "Mean Absolute Error (Train): 0.0739741106104006\n",
            "Mean Absolute Error (Test): 0.04969356432210237\n"
          ]
        },
        {
          "name": "stderr",
          "output_type": "stream",
          "text": [
            "/usr/local/lib/python3.10/dist-packages/sklearn/metrics/_regression.py:918: UndefinedMetricWarning: R^2 score is not well-defined with less than two samples.\n",
            "  warnings.warn(msg, UndefinedMetricWarning)\n"
          ]
        }
      ],
      "source": [
        "# Make predictions on the test set\n",
        "y_pred = regressor.predict(X_test)\n",
        "\n",
        "# Print the index and value of each prediction\n",
        "print(\"Predicted Values:\")\n",
        "for i, pred in enumerate(y_pred[:5], 1):\n",
        "    print(f\"Prediction {i}: {pred}\")\n",
        "\n",
        "# Evaluate the model\n",
        "mse_train = mean_squared_error(y_train, regressor.predict(X_train))\n",
        "mse_test = mean_squared_error(y_test, y_pred)\n",
        "mae_train = mean_absolute_error(y_train, regressor.predict(X_train))\n",
        "mae_test = mean_absolute_error(y_test, y_pred)\n",
        "r2_train = r2_score(y_train, regressor.predict(X_train))\n",
        "r2_test = r2_score(y_test, y_pred)\n",
        "\n",
        "print(\"Mean Squared Error (Train):\", mse_train)\n",
        "print(\"Mean Squared Error (Test):\", mse_test)\n",
        "print(\"Mean Absolute Error (Train):\", mae_train)\n",
        "print(\"Mean Absolute Error (Test):\", mae_test)\n"
      ]
    },
    {
      "cell_type": "code",
      "execution_count": 247,
      "metadata": {
        "colab": {
          "base_uri": "https://localhost:8080/"
        },
        "id": "NTugiVqMoGuu",
        "outputId": "d644f1f4-169d-4b3e-deb3-4b7bb2763658"
      },
      "outputs": [
        {
          "name": "stdout",
          "output_type": "stream",
          "text": [
            "Predicted Rating: [4.78800213]\n"
          ]
        },
        {
          "name": "stderr",
          "output_type": "stream",
          "text": [
            "/usr/local/lib/python3.10/dist-packages/sklearn/base.py:439: UserWarning: X does not have valid feature names, but SVR was fitted with feature names\n",
            "  warnings.warn(\n"
          ]
        }
      ],
      "source": [
        "# Convert sparse input data to dense format\n",
        "X_input_dense = X_input.toarray()\n",
        "\n",
        "# Make predictions using the CourseraRating class\n",
        "predicted_rating = coursera_rating.predict(X_input_dense)\n",
        "print(\"Predicted Rating:\", predicted_rating)\n"
      ]
    },
    {
      "cell_type": "code",
      "execution_count": 54,
      "metadata": {
        "colab": {
          "base_uri": "https://localhost:8080/"
        },
        "id": "EdpxctLGJJPb",
        "outputId": "ef1de4cf-e5a4-4168-b883-101671decb82"
      },
      "outputs": [
        {
          "name": "stdout",
          "output_type": "stream",
          "text": [
            "Train R-squared: 0.9971633772997177\n",
            "Test R-squared: 0.9888897757458112\n"
          ]
        }
      ],
      "source": [
        "from sklearn.metrics import r2_score\n",
        "\n",
        "# Predict on the test set\n",
        "y_pred = regressor.predict(X_test)\n",
        "\n",
        "# Calculate R-squared for the train and test sets\n",
        "train_r2 = r2_score(y_train, regressor.predict(X_train))\n",
        "test_r2 = r2_score(y_test, y_pred)\n",
        "\n",
        "print(\"Train R-squared:\", train_r2)\n",
        "print(\"Test R-squared:\", test_r2)"
      ]
    },
    {
      "cell_type": "code",
      "execution_count": null,
      "metadata": {
        "colab": {
          "base_uri": "https://localhost:8080/",
          "height": 564
        },
        "id": "FKPPldSu9Sye",
        "outputId": "4adb75f8-383e-4a59-cc1e-2dc9e3b0cfc7"
      },
      "outputs": [
        {
          "data": {
            "image/png": "[encoded data removed]",
            "text/plain": [
              "<Figure size 800x600 with 1 Axes>"
            ]
          },
          "metadata": {},
          "output_type": "display_data"
        }
      ],
      "source": [
        "import matplotlib.pyplot as plt\n",
        "\n",
        "# Create the scatter plot\n",
        "plt.figure(figsize=(8, 6))\n",
        "plt.scatter(y_test, y_pred, alpha=0.5)\n",
        "plt.plot([min(y_test), max(y_test)], [min(y_test), max(y_test)], 'r--', lw=2)\n",
        "plt.xlabel('Actual Values')\n",
        "plt.ylabel('Predicted Values')\n",
        "plt.title('Decision Tree Regression: Actual vs Predicted')\n",
        "plt.show()"
      ]
    },
    {
      "cell_type": "code",
      "execution_count": null,
      "metadata": {
        "colab": {
          "base_uri": "https://localhost:8080/",
          "height": 472
        },
        "id": "6juV2Tpc-EUi",
        "outputId": "d9638544-0937-442c-91ca-ea5347468b06"
      },
      "outputs": [
        {
          "data": {
            "image/png": "[encoded data removed]",
            "text/plain": [
              "<Figure size 640x480 with 1 Axes>"
            ]
          },
          "metadata": {},
          "output_type": "display_data"
        }
      ],
      "source": [
        "import pandas as pd\n",
        "import matplotlib.pyplot as plt\n",
        "\n",
        "# Convert y_test and y_pred to numeric types\n",
        "y_test = pd.to_numeric(y_test)\n",
        "y_pred = pd.to_numeric(y_pred)\n",
        "\n",
        "# Perform residual analysis\n",
        "residuals = y_test - y_pred\n",
        "plt.scatter(y_test, residuals)\n",
        "plt.xlabel('True Values')\n",
        "plt.ylabel('Residuals')\n",
        "plt.title('Residual Analysis')\n",
        "plt.axhline(y=0, color='red', linestyle='--')\n",
        "plt.show()\n"
      ]
    },
    {
      "cell_type": "code",
      "execution_count": null,
      "metadata": {
        "colab": {
          "base_uri": "https://localhost:8080/",
          "height": 472
        },
        "id": "_6j9J1b8-ObI",
        "outputId": "6c6d2d68-ea02-4ad8-c632-9f2fa3a82bdf"
      },
      "outputs": [
        {
          "data": {
            "image/png": "[encoded data removed]",
            "text/plain": [
              "<Figure size 640x480 with 1 Axes>"
            ]
          },
          "metadata": {},
          "output_type": "display_data"
        }
      ],
      "source": [
        "plt.hist(residuals, bins=20)\n",
        "plt.xlabel('Residuals')\n",
        "plt.ylabel('Frequency')\n",
        "plt.title('Distribution of Errors')\n",
        "plt.show()"
      ]
    },
    {
      "cell_type": "markdown",
      "metadata": {
        "id": "RHTFQwTn-pFH"
      },
      "source": [
        "### ***`BEStSVR_RESULT`***"
      ]
    },
    {
      "cell_type": "code",
      "execution_count": 139,
      "metadata": {
        "colab": {
          "base_uri": "https://localhost:8080/"
        },
        "id": "oWMe43n0S52z",
        "outputId": "8a7e333f-aea7-4161-a733-ee0356a21558"
      },
      "outputs": [
        {
          "name": "stdout",
          "output_type": "stream",
          "text": [
            "Train Accuracy: 0.8462909616230379\n",
            "Test Accuracy: 0.8251749652704246\n",
            "Train Mean Absolute Error (MAE): 0.44840846828607445\n",
            "Test Mean Absolute Error (MAE): 0.7018181068327849\n",
            "Train Mean Squared Error (MSE): 0.7673015491416939\n",
            "Test Mean Squared Error (MSE): 0.8501094162819115\n",
            "Train R-squared: 0.8462909616230379\n",
            "Test R-squared: 0.8251749652704246\n",
            "Predicted Values:\n",
            "[ 5.6105456   4.28043211  3.3841267   3.97939491 -0.16749375  2.66635023\n",
            "  3.57337669  5.07414411  3.4598048   0.10500617 -0.0239447   4.87095277\n",
            "  0.33772924  0.08835625  5.7827553 ]\n"
          ]
        }
      ],
      "source": [
        "from sklearn.svm import SVR\n",
        "from sklearn.model_selection import train_test_split\n",
        "from sklearn.metrics import mean_squared_error, mean_absolute_error, r2_score\n",
        "\n",
        "# Assuming 'Rating' is the target column and all other columns are features\n",
        "X = df.loc[:, df.columns != 'Rating']\n",
        "y = df['Rating']\n",
        "\n",
        "# Split the data into training and testing sets\n",
        "X_train, X_test, y_train, y_test = train_test_split(X, y, test_size=0.2, random_state=42)\n",
        "\n",
        "# Instantiate and fit the SVR model with the RBF kernel\n",
        "regressor = SVR(kernel='rbf', C=50, gamma='scale')  # Adjust C and gamma as needed\n",
        "regressor.fit(X_train, y_train)\n",
        "\n",
        "# Predict on the test set\n",
        "y_pred = regressor.predict(X_test)\n",
        "\n",
        "# Evaluate the model using mean squared error and mean absolute error\n",
        "mse_train = mean_squared_error(y_train, regressor.predict(X_train))\n",
        "mse_test = mean_squared_error(y_test, y_pred)\n",
        "mae_train = mean_absolute_error(y_train, regressor.predict(X_train))\n",
        "mae_test = mean_absolute_error(y_test, y_pred)\n",
        "r2_train = r2_score(y_train, regressor.predict(X_train))\n",
        "r2_test = r2_score(y_test, y_pred)\n",
        "\n",
        "print(\"Train Accuracy:\", regressor.score(X_train, y_train))\n",
        "print(\"Test Accuracy:\", regressor.score(X_test, y_test))\n",
        "print(\"Train Mean Absolute Error (MAE):\", mae_train)\n",
        "print(\"Test Mean Absolute Error (MAE):\", mae_test)\n",
        "print(\"Train Mean Squared Error (MSE):\", mse_train)\n",
        "print(\"Test Mean Squared Error (MSE):\", mse_test)\n",
        "print(\"Train R-squared:\", r2_train)\n",
        "print(\"Test R-squared:\", r2_test)\n",
        "\n",
        "print(\"Predicted Values:\")\n",
        "print(y_pred[:15])"
      ]
    },
    {
      "cell_type": "code",
      "execution_count": null,
      "metadata": {
        "colab": {
          "base_uri": "https://localhost:8080/"
        },
        "id": "5vhK62IXToy7",
        "outputId": "73b4f257-d3ed-46b8-9fa7-e2777ce42b93"
      },
      "outputs": [
        {
          "name": "stdout",
          "output_type": "stream",
          "text": [
            "Test Mean Squared Error: 0.6634836864640467\n",
            "Test Mean Absolute Error: 0.5746570316232538\n",
            "Train Mean Squared Error: 1.508073964054507\n",
            "Train Mean Absolute Error: 0.6786767485564924\n",
            "Train R-squared: 0.7034721974618423\n",
            "Test R-squared: 0.8567343205408626\n",
            "Training Score: 0.7034721974618423\n",
            "Testing Score: 0.8567343205408626\n",
            "First 5 Predicted Values on Test Set:\n",
            "[0.1000891  4.13074475 3.82925582 3.92946726 3.87452951]\n"
          ]
        }
      ],
      "source": [
        "import pandas as pd\n",
        "from sklearn.svm import SVR\n",
        "from sklearn.model_selection import train_test_split\n",
        "from sklearn.metrics import mean_squared_error, mean_absolute_error, r2_score\n",
        "\n",
        "# Assuming 'Rating' is the target column and all other columns are features\n",
        "X = df.loc[:, df.columns != 'Rating']\n",
        "y = df['Rating']\n",
        "\n",
        "# Split the data into training and testing sets\n",
        "X_train, X_test, y_train, y_test = train_test_split(X, y, test_size=0.2, random_state=42)\n",
        "\n",
        "# Instantiate and fit the SVR model with the RBF kernel\n",
        "regressor = SVR(kernel='rbf', C=5, gamma='scale')  # Adjust C and gamma as needed\n",
        "regressor.fit(X_train, y_train)\n",
        "\n",
        "# Predict on the training and test sets\n",
        "y_train_pred = regressor.predict(X_train)\n",
        "y_test_pred = regressor.predict(X_test)\n",
        "\n",
        "# Evaluate the model using mean squared error and mean absolute error for the test set\n",
        "test_mse = mean_squared_error(y_test, y_test_pred)\n",
        "test_mae = mean_absolute_error(y_test, y_test_pred)\n",
        "\n",
        "# Evaluate the model using mean squared error and mean absolute error for the training set\n",
        "train_mse = mean_squared_error(y_train, y_train_pred)\n",
        "train_mae = mean_absolute_error(y_train, y_train_pred)\n",
        "\n",
        "print(\"Test Mean Squared Error:\", test_mse)\n",
        "print(\"Test Mean Absolute Error:\", test_mae)\n",
        "print(\"Train Mean Squared Error:\", train_mse)\n",
        "print(\"Train Mean Absolute Error:\", train_mae)\n",
        "\n",
        "# Calculate the R-squared score for train and test sets\n",
        "train_r2 = r2_score(y_train, y_train_pred)\n",
        "test_r2 = r2_score(y_test, y_test_pred)\n",
        "\n",
        "print(\"Train R-squared:\", train_r2)\n",
        "print(\"Test R-squared:\", test_r2)\n",
        "\n",
        "# Calculate the training and testing scores using regressor.score (R-squared values)\n",
        "train_score = regressor.score(X_train, y_train)\n",
        "test_score = regressor.score(X_test, y_test)\n",
        "\n",
        "print(\"Training Score:\", train_score)\n",
        "print(\"Testing Score:\", test_score)\n",
        "\n",
        "# Print the first 5 predicted values on the test set\n",
        "print(\"First 5 Predicted Values on Test Set:\")\n",
        "print(y_test_pred[:5])"
      ]
    },
    {
      "cell_type": "code",
      "execution_count": null,
      "metadata": {
        "colab": {
          "base_uri": "https://localhost:8080/"
        },
        "id": "yvFiFESnR34x",
        "outputId": "48840327-2739-424f-856f-73b3963f6b5b"
      },
      "outputs": [
        {
          "name": "stdout",
          "output_type": "stream",
          "text": [
            "Test HR: 0.7758482553247863\n"
          ]
        }
      ],
      "source": [
        "import numpy as np\n",
        "\n",
        "# Calculate the Harmonic Regression (HR) score for the test set\n",
        "test_hr = 1 / np.mean(1 / y_test_pred)\n",
        "print(\"Test HR:\", test_hr)"
      ]
    },
    {
      "cell_type": "code",
      "execution_count": null,
      "metadata": {
        "colab": {
          "base_uri": "https://localhost:8080/"
        },
        "id": "Nl4Pc-ykTw83",
        "outputId": "dd84f791-4473-4dd3-8570-9d88a12136c8"
      },
      "outputs": [
        {
          "name": "stdout",
          "output_type": "stream",
          "text": [
            "Test Mean Squared Error: 0.6885517205323043\n",
            "Test Mean Absolute Error: 0.5825664921255893\n",
            "Train Mean Squared Error: 1.1293891356560275\n",
            "Train Mean Absolute Error: 0.5695449137841266\n",
            "Train R-squared: 0.7779317947336124\n",
            "Test R-squared: 0.8513213932801584\n",
            "Training Score: 0.7779317947336124\n",
            "Testing Score: 0.8513213932801584\n",
            "First 5 Predicted Values on Test Set:\n",
            "[0.12284904 4.07897886 3.72816711 3.84989185 4.71164129]\n"
          ]
        }
      ],
      "source": [
        "import pandas as pd\n",
        "from sklearn.svm import SVR\n",
        "from sklearn.model_selection import train_test_split\n",
        "from sklearn.metrics import mean_squared_error, mean_absolute_error, r2_score\n",
        "\n",
        "# Assuming 'Rating' is the target column and all other columns are features\n",
        "X = df.loc[:, df.columns != 'Rating']\n",
        "y = df['Rating']\n",
        "\n",
        "# Split the data into training and testing sets\n",
        "X_train, X_test, y_train, y_test = train_test_split(X, y, test_size=0.2, random_state=42)\n",
        "\n",
        "# Instantiate and fit the SVR model with the RBF kernel\n",
        "regressor = SVR(kernel='rbf', C=12, gamma='scale')  # Adjust C and gamma as needed\n",
        "regressor.fit(X_train, y_train)\n",
        "\n",
        "# Predict on the training and test sets\n",
        "y_train_pred = regressor.predict(X_train)\n",
        "y_test_pred = regressor.predict(X_test)\n",
        "\n",
        "# Evaluate the model using mean squared error and mean absolute error for the test set\n",
        "test_mse = mean_squared_error(y_test, y_test_pred)\n",
        "test_mae = mean_absolute_error(y_test, y_test_pred)\n",
        "\n",
        "# Evaluate the model using mean squared error and mean absolute error for the training set\n",
        "train_mse = mean_squared_error(y_train, y_train_pred)\n",
        "train_mae = mean_absolute_error(y_train, y_train_pred)\n",
        "\n",
        "print(\"Test Mean Squared Error:\", test_mse)\n",
        "print(\"Test Mean Absolute Error:\", test_mae)\n",
        "print(\"Train Mean Squared Error:\", train_mse)\n",
        "print(\"Train Mean Absolute Error:\", train_mae)\n",
        "\n",
        "# Calculate the R-squared score for train and test sets\n",
        "train_r2 = r2_score(y_train, y_train_pred)\n",
        "test_r2 = r2_score(y_test, y_test_pred)\n",
        "\n",
        "print(\"Train R-squared:\", train_r2)\n",
        "print(\"Test R-squared:\", test_r2)\n",
        "\n",
        "# Calculate the training and testing scores using regressor.score (R-squared values)\n",
        "train_score = regressor.score(X_train, y_train)\n",
        "test_score = regressor.score(X_test, y_test)\n",
        "\n",
        "print(\"Training Score:\", train_score)\n",
        "print(\"Testing Score:\", test_score)\n",
        "\n",
        "# Print the first 5 predicted values on the test set\n",
        "print(\"First 5 Predicted Values on Test Set:\")\n",
        "print(y_test_pred[:5])"
      ]
    },
    {
      "cell_type": "code",
      "execution_count": null,
      "metadata": {
        "colab": {
          "base_uri": "https://localhost:8080/"
        },
        "id": "ULlPPbLP-7pq",
        "outputId": "aaeff0f8-e8a0-4bc5-8bd6-6063d566bc9d"
      },
      "outputs": [
        {
          "name": "stdout",
          "output_type": "stream",
          "text": [
            "Mean Squared Error: 0.7454887670275943\n",
            "R-squared Score: 0.8390270071197141\n",
            "Training Score: 0.8580984221750974\n",
            "Testing Score: 0.8390270071197141\n"
          ]
        }
      ],
      "source": [
        "from sklearn.svm import SVR\n",
        "from sklearn.model_selection import train_test_split\n",
        "from sklearn.metrics import mean_squared_error\n",
        "\n",
        "# Assuming 'Rating' is the target column and all other columns are features\n",
        "X = df.loc[:, df.columns != 'Rating']\n",
        "y = df['Rating']\n",
        "\n",
        "# Split the data into training and testing sets\n",
        "X_train, X_test, y_train, y_test = train_test_split(X, y, test_size=0.2, random_state=42)\n",
        "\n",
        "# Instantiate and fit the SVR model with the RBF kernel\n",
        "regressor = SVR(kernel='rbf', C=50, gamma='scale')  # Adjust C and gamma as needed\n",
        "regressor.fit(X_train, y_train)\n",
        "\n",
        "# Predict on the test set\n",
        "y_pred = regressor.predict(X_test)\n",
        "\n",
        "# Evaluate the model using mean squared error\n",
        "mse = mean_squared_error(y_test, y_pred)\n",
        "print(\"Mean Squared Error:\", mse)\n",
        "\n",
        "# Calculate the R-squared score\n",
        "r2_score = regressor.score(X_test, y_test)\n",
        "print(\"R-squared Score:\", r2_score)\n",
        "\n",
        "# Calculate the training and testing scores\n",
        "train_score = regressor.score(X_train, y_train)\n",
        "test_score = regressor.score(X_test, y_test)\n",
        "print(\"Training Score:\", train_score)\n",
        "print(\"Testing Score:\", test_score)\n",
        "\n",
        "# Make predictions for new data points\n",
        "new_data_point = [[5]]  # Replace value_1, value_2, ... with the actual values of features\n"
      ]
    },
    {
      "cell_type": "code",
      "execution_count": null,
      "metadata": {
        "colab": {
          "base_uri": "https://localhost:8080/"
        },
        "id": "Ff0rpLAx_zWP",
        "outputId": "3c3a1d64-d1d0-450a-9f60-31378f3cb595"
      },
      "outputs": [
        {
          "name": "stdout",
          "output_type": "stream",
          "text": [
            "Mean Squared Error: 0.7454887670275943\n",
            "R-squared Score: 0.8390270071197141\n",
            "Training Score: 0.8580984221750974\n",
            "Testing Score: 0.8390270071197141\n",
            "Predicted Values:\n",
            "[0.23668826 4.20451353 3.93521253 4.11642892 5.90032469]\n"
          ]
        }
      ],
      "source": [
        "from sklearn.svm import SVR\n",
        "from sklearn.model_selection import train_test_split\n",
        "from sklearn.metrics import mean_squared_error, mean_absolute_error\n",
        "\n",
        "# Assuming 'Rating' is the target column and all other columns are features\n",
        "X = df.loc[:, df.columns != 'Rating']\n",
        "y = df['Rating']\n",
        "\n",
        "# Split the data into training and testing sets\n",
        "X_train, X_test, y_train, y_test = train_test_split(X, y, test_size=0.2, random_state=42)\n",
        "\n",
        "# Instantiate and fit the SVR model with the RBF kernel\n",
        "regressor = SVR(kernel='rbf', C=50, gamma='scale')  # Adjust C and gamma as needed\n",
        "regressor.fit(X_train, y_train)\n",
        "\n",
        "# Predict on the test set\n",
        "y_pred = regressor.predict(X_test)\n",
        "\n",
        "# Evaluate the model using mean squared error\n",
        "mse = mean_squared_error(y_test, y_pred)\n",
        "print(\"Mean Squared Error:\", mse)\n",
        "\n",
        "# Calculate the R-squared score\n",
        "r2_score = regressor.score(X_test, y_test)\n",
        "print(\"R-squared Score:\", r2_score)\n",
        "\n",
        "# Calculate the training and testing scores\n",
        "train_score = regressor.score(X_train, y_train)\n",
        "test_score = regressor.score(X_test, y_test)\n",
        "print(\"Training Score:\", train_score)\n",
        "print(\"Testing Score:\", test_score)\n",
        "\n",
        "# Print the first 5 predicted values\n",
        "print(\"Predicted Values:\")\n",
        "print(y_pred[:5])\n"
      ]
    },
    {
      "cell_type": "code",
      "execution_count": null,
      "metadata": {
        "colab": {
          "base_uri": "https://localhost:8080/",
          "height": 685
        },
        "id": "n57IgjkgCfch",
        "outputId": "22ffb9ed-2423-430a-8aaa-3de738ce3576"
      },
      "outputs": [
        {
          "name": "stdout",
          "output_type": "stream",
          "text": [
            "Mean Squared Error: 0.6715924158211773\n",
            "Mean Absolute Error: 0.5809018484794749\n",
            "R-squared Score: 0.854983406924447\n",
            "Training Score: 0.7666789543896851\n",
            "Testing Score: 0.854983406924447\n",
            "Predicted Values:\n",
            "[0.12207151 4.07233101 3.71780499 3.83549362 4.55064545]\n"
          ]
        },
        {
          "data": {
            "image/png": "[encoded data removed]",
            "text/plain": [
              "<Figure size 800x600 with 1 Axes>"
            ]
          },
          "metadata": {},
          "output_type": "display_data"
        }
      ],
      "source": [
        "# Import the necessary libraries\n",
        "from sklearn.svm import SVR\n",
        "from sklearn.model_selection import train_test_split\n",
        "from sklearn.metrics import mean_squared_error, mean_absolute_error, r2_score\n",
        "import matplotlib.pyplot as plt\n",
        "\n",
        "# Assuming 'df' is your DataFrame and 'Rating' is the target column\n",
        "X = df.drop(columns=['Rating'])\n",
        "y = df['Rating']\n",
        "\n",
        "# Split the data into training and testing sets\n",
        "X_train, X_test, y_train, y_test = train_test_split(X, y, test_size=0.2, random_state=42)\n",
        "\n",
        "# Instantiate and fit the SVR model with the RBF kernel\n",
        "regressor = SVR(kernel='rbf', C=10, gamma='scale')  # Adjust C and gamma as needed\n",
        "regressor.fit(X_train, y_train)\n",
        "\n",
        "# Predict on the test set\n",
        "y_pred = regressor.predict(X_test)\n",
        "\n",
        "# Evaluate the model using mean squared error\n",
        "mse = mean_squared_error(y_test, y_pred)\n",
        "print(\"Mean Squared Error:\", mse)\n",
        "\n",
        "# Evaluate the model using mean absolute error\n",
        "mae = mean_absolute_error(y_test, y_pred)\n",
        "print(\"Mean Absolute Error:\", mae)\n",
        "\n",
        "# Calculate the R-squared score\n",
        "r2 = r2_score(y_test, y_pred)\n",
        "print(\"R-squared Score:\", r2)\n",
        "\n",
        "# Calculate the training and testing scores\n",
        "train_score = regressor.score(X_train, y_train)\n",
        "test_score = regressor.score(X_test, y_test)\n",
        "print(\"Training Score:\", train_score)\n",
        "print(\"Testing Score:\", test_score)\n",
        "\n",
        "# Print the first 5 predicted values\n",
        "print(\"Predicted Values:\")\n",
        "print(y_pred[:5])\n",
        "\n",
        "# Plotting Actual vs Predicted values\n",
        "plt.figure(figsize=(8, 6))\n",
        "plt.scatter(y_test, y_pred, color='blue', label='Actual vs Predicted')\n",
        "\n",
        "# Plotting the 45-degree line\n",
        "plt.plot([y_test.min(), y_test.max()], [y_test.min(), y_test.max()], color='red', linestyle='--', label='45-degree line')\n",
        "\n",
        "# Adding labels and title\n",
        "plt.xlabel('Actual Values')\n",
        "plt.ylabel('Predicted Values')\n",
        "plt.title('Actual vs Predicted Ratings')\n",
        "\n",
        "# Adding legend\n",
        "plt.legend()\n",
        "\n",
        "# Display the plot\n",
        "plt.show()\n"
      ]
    },
    {
      "cell_type": "code",
      "execution_count": null,
      "metadata": {
        "id": "PUOXBT8cAbej"
      },
      "outputs": [],
      "source": []
    },
    {
      "cell_type": "markdown",
      "metadata": {
        "id": "iMWrUMdIAtx3"
      },
      "source": [
        "### **`*BESTKNEAREST*`**"
      ]
    },
    {
      "cell_type": "code",
      "execution_count": null,
      "metadata": {
        "colab": {
          "base_uri": "https://localhost:8080/"
        },
        "id": "jswmMSpXvcTg",
        "outputId": "01a753e6-65f9-495a-e196-8738f25202ef"
      },
      "outputs": [
        {
          "name": "stdout",
          "output_type": "stream",
          "text": [
            "Train Mean Squared Error: 1.7302090909090906\n",
            "Test Mean Squared Error: 0.7438529411764706\n",
            "Train Mean Absolute Error: 0.9984848484848485\n",
            "Test Mean Absolute Error: 0.6229411764705883\n",
            "Train R-squared: 0.6597944716985562\n",
            "Test R-squared: 0.839380230125523\n",
            "Training Score: 0.6597944716985562\n",
            "Testing Score: 0.839380230125523\n"
          ]
        }
      ],
      "source": [
        "import pandas as pd\n",
        "from sklearn.neighbors import KNeighborsRegressor\n",
        "from sklearn.model_selection import train_test_split\n",
        "from sklearn.metrics import mean_squared_error, mean_absolute_error, r2_score\n",
        "\n",
        "\n",
        "# Assuming 'Rating' is the target column and all other columns are features\n",
        "X = df.loc[:, df.columns != 'Rating']\n",
        "y = df['Rating']\n",
        "\n",
        "# Split the data into training and testing sets\n",
        "X_train, X_test, y_train, y_test = train_test_split(X, y, test_size=0.2, random_state=42)\n",
        "\n",
        "# Convert y_train and y_test to numerical data types\n",
        "y_train = y_train.astype(float)\n",
        "y_test = y_test.astype(float)\n",
        "\n",
        "# Create the K-Nearest Neighbors regressor model with more neighbors\n",
        "knn = KNeighborsRegressor(n_neighbors=10, metric='manhattan', algorithm='brute')\n",
        "\n",
        "# Train the model\n",
        "knn.fit(X_train, y_train)\n",
        "\n",
        "# Make predictions on the train and test sets\n",
        "y_train_pred = knn.predict(X_train)\n",
        "y_test_pred = knn.predict(X_test)\n",
        "\n",
        "# Evaluate the model using mean squared error, mean absolute error, and R-squared\n",
        "train_mse = mean_squared_error(y_train, y_train_pred)\n",
        "test_mse = mean_squared_error(y_test, y_test_pred)\n",
        "\n",
        "train_mae = mean_absolute_error(y_train, y_train_pred)\n",
        "test_mae = mean_absolute_error(y_test, y_test_pred)\n",
        "\n",
        "train_r2 = r2_score(y_train, y_train_pred)\n",
        "test_r2 = r2_score(y_test, y_test_pred)\n",
        "\n",
        "print(\"Train Mean Squared Error:\", train_mse)\n",
        "print(\"Test Mean Squared Error:\", test_mse)\n",
        "print(\"Train Mean Absolute Error:\", train_mae)\n",
        "print(\"Test Mean Absolute Error:\", test_mae)\n",
        "print(\"Train R-squared:\", train_r2)\n",
        "print(\"Test R-squared:\", test_r2)\n",
        "\n",
        "# Calculate the training and testing scores using knn.score (R-squared values)\n",
        "train_score = knn.score(X_train, y_train)\n",
        "test_score = knn.score(X_test, y_test)\n",
        "\n",
        "print(\"Training Score:\", train_score)\n",
        "print(\"Testing Score:\", test_score)"
      ]
    },
    {
      "cell_type": "code",
      "execution_count": null,
      "metadata": {
        "colab": {
          "base_uri": "https://localhost:8080/"
        },
        "id": "-vQZzWIhU9IE",
        "outputId": "d2b905e0-e6ad-4e06-f64b-d7e976a5d5ee"
      },
      "outputs": [
        {
          "name": "stdout",
          "output_type": "stream",
          "text": [
            "Train Mean Squared Error: 1.3240181818181818\n",
            "Test Mean Squared Error: 0.5735764705882351\n",
            "Train Mean Absolute Error: 0.7566666666666666\n",
            "Test Mean Absolute Error: 0.568235294117647\n",
            "Train R-squared: 0.739662502414953\n",
            "Test R-squared: 0.8761479378362224\n",
            "Training Score: 0.739662502414953\n",
            "Testing Score: 0.8761479378362224\n"
          ]
        }
      ],
      "source": [
        "import pandas as pd\n",
        "from sklearn.neighbors import KNeighborsRegressor\n",
        "from sklearn.model_selection import train_test_split\n",
        "from sklearn.metrics import mean_squared_error, mean_absolute_error, r2_score\n",
        "\n",
        "\n",
        "# Assuming 'Rating' is the target column and all other columns are features\n",
        "X = df.loc[:, df.columns != 'Rating']\n",
        "y = df['Rating']\n",
        "\n",
        "# Split the data into training and testing sets\n",
        "X_train, X_test, y_train, y_test = train_test_split(X, y, test_size=0.2, random_state=42)\n",
        "\n",
        "# Convert y_train and y_test to numerical data types\n",
        "y_train = y_train.astype(float)\n",
        "y_test = y_test.astype(float)\n",
        "\n",
        "# Create the K-Nearest Neighbors regressor model with more neighbors\n",
        "knn = KNeighborsRegressor(n_neighbors=5, metric='manhattan', algorithm='brute')\n",
        "\n",
        "# Train the model\n",
        "knn.fit(X_train, y_train)\n",
        "\n",
        "# Make predictions on the train and test sets\n",
        "y_train_pred = knn.predict(X_train)\n",
        "y_test_pred = knn.predict(X_test)\n",
        "\n",
        "# Evaluate the model using mean squared error, mean absolute error, and R-squared\n",
        "train_mse = mean_squared_error(y_train, y_train_pred)\n",
        "test_mse = mean_squared_error(y_test, y_test_pred)\n",
        "\n",
        "train_mae = mean_absolute_error(y_train, y_train_pred)\n",
        "test_mae = mean_absolute_error(y_test, y_test_pred)\n",
        "\n",
        "train_r2 = r2_score(y_train, y_train_pred)\n",
        "test_r2 = r2_score(y_test, y_test_pred)\n",
        "\n",
        "print(\"Train Mean Squared Error:\", train_mse)\n",
        "print(\"Test Mean Squared Error:\", test_mse)\n",
        "print(\"Train Mean Absolute Error:\", train_mae)\n",
        "print(\"Test Mean Absolute Error:\", test_mae)\n",
        "print(\"Train R-squared:\", train_r2)\n",
        "print(\"Test R-squared:\", test_r2)\n",
        "\n",
        "# Calculate the training and testing scores using knn.score (R-squared values)\n",
        "train_score = knn.score(X_train, y_train)\n",
        "test_score = knn.score(X_test, y_test)\n",
        "\n",
        "print(\"Training Score:\", train_score)\n",
        "print(\"Testing Score:\", test_score)"
      ]
    },
    {
      "cell_type": "code",
      "execution_count": null,
      "metadata": {
        "colab": {
          "base_uri": "https://localhost:8080/"
        },
        "id": "IPWIB2wvVP03",
        "outputId": "72308991-1f16-4046-976e-36d73429afe3"
      },
      "outputs": [
        {
          "name": "stdout",
          "output_type": "stream",
          "text": [
            "Train Mean Squared Error: 1.3267171717171717\n",
            "Test Mean Squared Error: 0.40124183006535946\n",
            "Train Mean Absolute Error: 0.6449494949494949\n",
            "Test Mean Absolute Error: 0.3666666666666667\n",
            "Train R-squared: 0.7391318085876633\n",
            "Test R-squared: 0.9133600650860065\n",
            "Training Score: 0.7391318085876633\n",
            "Testing Score: 0.9133600650860065\n"
          ]
        }
      ],
      "source": [
        "import pandas as pd\n",
        "from sklearn.neighbors import KNeighborsRegressor\n",
        "from sklearn.model_selection import train_test_split\n",
        "from sklearn.metrics import mean_squared_error, mean_absolute_error, r2_score\n",
        "\n",
        "\n",
        "# Assuming 'Rating' is the target column and all other columns are features\n",
        "X = df.loc[:, df.columns != 'Rating']\n",
        "y = df['Rating']\n",
        "\n",
        "# Split the data into training and testing sets\n",
        "X_train, X_test, y_train, y_test = train_test_split(X, y, test_size=0.2, random_state=42)\n",
        "\n",
        "# Convert y_train and y_test to numerical data types\n",
        "y_train = y_train.astype(float)\n",
        "y_test = y_test.astype(float)\n",
        "\n",
        "# Create the K-Nearest Neighbors regressor model with more neighbors\n",
        "knn = KNeighborsRegressor(n_neighbors=3, metric='manhattan', algorithm='brute')\n",
        "\n",
        "# Train the model\n",
        "knn.fit(X_train, y_train)\n",
        "\n",
        "# Make predictions on the train and test sets\n",
        "y_train_pred = knn.predict(X_train)\n",
        "y_test_pred = knn.predict(X_test)\n",
        "\n",
        "# Evaluate the model using mean squared error, mean absolute error, and R-squared\n",
        "train_mse = mean_squared_error(y_train, y_train_pred)\n",
        "test_mse = mean_squared_error(y_test, y_test_pred)\n",
        "\n",
        "train_mae = mean_absolute_error(y_train, y_train_pred)\n",
        "test_mae = mean_absolute_error(y_test, y_test_pred)\n",
        "\n",
        "train_r2 = r2_score(y_train, y_train_pred)\n",
        "test_r2 = r2_score(y_test, y_test_pred)\n",
        "\n",
        "print(\"Train Mean Squared Error:\", train_mse)\n",
        "print(\"Test Mean Squared Error:\", test_mse)\n",
        "print(\"Train Mean Absolute Error:\", train_mae)\n",
        "print(\"Test Mean Absolute Error:\", test_mae)\n",
        "print(\"Train R-squared:\", train_r2)\n",
        "print(\"Test R-squared:\", test_r2)\n",
        "\n",
        "# Calculate the training and testing scores using knn.score (R-squared values)\n",
        "train_score = knn.score(X_train, y_train)\n",
        "test_score = knn.score(X_test, y_test)\n",
        "\n",
        "print(\"Training Score:\", train_score)\n",
        "print(\"Testing Score:\", test_score)"
      ]
    },
    {
      "cell_type": "code",
      "execution_count": null,
      "metadata": {
        "colab": {
          "base_uri": "https://localhost:8080/"
        },
        "id": "r3rAAg1-VZJE",
        "outputId": "2e804718-5b5d-4028-f6b0-a007d3d98979"
      },
      "outputs": [
        {
          "name": "stdout",
          "output_type": "stream",
          "text": [
            "Train Mean Squared Error: 1.4392708333333333\n",
            "Test Mean Squared Error: 0.8096691176470587\n",
            "Train Mean Absolute Error: 0.7579545454545454\n",
            "Test Mean Absolute Error: 0.6573529411764705\n",
            "Train R-squared: 0.7170007389304873\n",
            "Test R-squared: 0.8251685781530186\n",
            "Training Score: 0.7170007389304873\n",
            "Testing Score: 0.8251685781530186\n"
          ]
        }
      ],
      "source": [
        "import pandas as pd\n",
        "from sklearn.neighbors import KNeighborsRegressor\n",
        "from sklearn.model_selection import train_test_split\n",
        "from sklearn.metrics import mean_squared_error, mean_absolute_error, r2_score\n",
        "\n",
        "\n",
        "# Assuming 'Rating' is the target column and all other columns are features\n",
        "X = df.loc[:, df.columns != 'Rating']\n",
        "y = df['Rating']\n",
        "\n",
        "# Split the data into training and testing sets\n",
        "X_train, X_test, y_train, y_test = train_test_split(X, y, test_size=0.2, random_state=42)\n",
        "\n",
        "# Convert y_train and y_test to numerical data types\n",
        "y_train = y_train.astype(float)\n",
        "y_test = y_test.astype(float)\n",
        "\n",
        "# Create the K-Nearest Neighbors regressor model with more neighbors\n",
        "knn = KNeighborsRegressor(n_neighbors=4, metric='manhattan', algorithm='brute')\n",
        "\n",
        "# Train the model\n",
        "knn.fit(X_train, y_train)\n",
        "\n",
        "# Make predictions on the train and test sets\n",
        "y_train_pred = knn.predict(X_train)\n",
        "y_test_pred = knn.predict(X_test)\n",
        "\n",
        "# Evaluate the model using mean squared error, mean absolute error, and R-squared\n",
        "train_mse = mean_squared_error(y_train, y_train_pred)\n",
        "test_mse = mean_squared_error(y_test, y_test_pred)\n",
        "\n",
        "train_mae = mean_absolute_error(y_train, y_train_pred)\n",
        "test_mae = mean_absolute_error(y_test, y_test_pred)\n",
        "\n",
        "train_r2 = r2_score(y_train, y_train_pred)\n",
        "test_r2 = r2_score(y_test, y_test_pred)\n",
        "\n",
        "print(\"Train Mean Squared Error:\", train_mse)\n",
        "print(\"Test Mean Squared Error:\", test_mse)\n",
        "print(\"Train Mean Absolute Error:\", train_mae)\n",
        "print(\"Test Mean Absolute Error:\", test_mae)\n",
        "print(\"Train R-squared:\", train_r2)\n",
        "print(\"Test R-squared:\", test_r2)\n",
        "\n",
        "# Calculate the training and testing scores using knn.score (R-squared values)\n",
        "train_score = knn.score(X_train, y_train)\n",
        "test_score = knn.score(X_test, y_test)\n",
        "\n",
        "print(\"Training Score:\", train_score)\n",
        "print(\"Testing Score:\", test_score)"
      ]
    },
    {
      "cell_type": "code",
      "execution_count": null,
      "metadata": {
        "colab": {
          "base_uri": "https://localhost:8080/",
          "height": 668
        },
        "id": "iekgf5sBCIyT",
        "outputId": "4c71e18a-039e-4201-9cf8-c4c5a43fde6f"
      },
      "outputs": [
        {
          "name": "stdout",
          "output_type": "stream",
          "text": [
            "Train Mean Squared Error: 1.3267171717171717\n",
            "Test Mean Squared Error: 0.40124183006535946\n",
            "Train Mean Absolute Error: 0.6449494949494949\n",
            "Test Mean Absolute Error: 0.3666666666666667\n",
            "Train R-squared: 0.7391318085876633\n",
            "Test R-squared: 0.9133600650860065\n"
          ]
        },
        {
          "data": {
            "image/png": "[encoded data removed]",
            "text/plain": [
              "<Figure size 800x600 with 1 Axes>"
            ]
          },
          "metadata": {},
          "output_type": "display_data"
        }
      ],
      "source": [
        "# Import the necessary libraries\n",
        "import numpy as np\n",
        "import pandas as pd\n",
        "from sklearn.neighbors import KNeighborsRegressor\n",
        "from sklearn.model_selection import train_test_split\n",
        "from sklearn.metrics import mean_squared_error, mean_absolute_error, r2_score\n",
        "import matplotlib.pyplot as plt\n",
        "\n",
        "# Assuming 'df' is your DataFrame and 'Rating' is the target column\n",
        "X = df.drop(columns=['Rating'])\n",
        "y = df['Rating']\n",
        "\n",
        "# Split the data into training and testing sets\n",
        "X_train, X_test, y_train, y_test = train_test_split(X, y, test_size=0.2, random_state=42)\n",
        "\n",
        "# Ensure y_train and y_test are of type float\n",
        "y_train = y_train.astype(float)\n",
        "y_test = y_test.astype(float)\n",
        "\n",
        "# Create the K-Nearest Neighbors regressor model\n",
        "knn = KNeighborsRegressor(n_neighbors=3, metric='manhattan', algorithm='brute')\n",
        "\n",
        "# Train the model\n",
        "knn.fit(X_train, y_train)\n",
        "\n",
        "# Make predictions on the train and test sets\n",
        "y_train_pred = knn.predict(X_train)\n",
        "y_test_pred = knn.predict(X_test)\n",
        "\n",
        "# Evaluate the model using mean squared error, mean absolute error, and R-squared\n",
        "train_mse = mean_squared_error(y_train, y_train_pred)\n",
        "test_mse = mean_squared_error(y_test, y_test_pred)\n",
        "\n",
        "train_mae = mean_absolute_error(y_train, y_train_pred)\n",
        "test_mae = mean_absolute_error(y_test, y_test_pred)\n",
        "\n",
        "train_r2 = r2_score(y_train, y_train_pred)\n",
        "test_r2 = r2_score(y_test, y_test_pred)\n",
        "\n",
        "print(\"Train Mean Squared Error:\", train_mse)\n",
        "print(\"Test Mean Squared Error:\", test_mse)\n",
        "print(\"Train Mean Absolute Error:\", train_mae)\n",
        "print(\"Test Mean Absolute Error:\", test_mae)\n",
        "print(\"Train R-squared:\", train_r2)\n",
        "print(\"Test R-squared:\", test_r2)\n",
        "\n",
        "# Plotting Actual vs Predicted values\n",
        "plt.figure(figsize=(8, 6))\n",
        "plt.scatter(y_test, y_test_pred, color='blue', label='Actual vs Predicted')\n",
        "\n",
        "# Plotting the 45-degree line\n",
        "plt.plot([y_test.min(), y_test.max()], [y_test.min(), y_test.max()], color='red', linestyle='--', label='45-degree line')\n",
        "\n",
        "# Adding labels and title\n",
        "plt.xlabel('Actual Values')\n",
        "plt.ylabel('Predicted Values')\n",
        "plt.title('Actual vs Predicted Ratings')\n",
        "\n",
        "# Adding legend\n",
        "plt.legend()\n",
        "\n",
        "# Display the plot\n",
        "plt.show()\n"
      ]
    },
    {
      "cell_type": "code",
      "execution_count": null,
      "metadata": {
        "colab": {
          "base_uri": "https://localhost:8080/"
        },
        "id": "AUZZop75BBsq",
        "outputId": "bff0226e-c62e-44f7-f8cf-06ca319454ad"
      },
      "outputs": [
        {
          "name": "stdout",
          "output_type": "stream",
          "text": [
            "Train Mean Squared Error: 2.2791585454545453\n",
            "Test Mean Squared Error: 1.8042183529411764\n",
            "Train Mean Absolute Error: 1.3778787878787877\n",
            "Test Mean Absolute Error: 1.2381176470588235\n",
            "Train R-squared: 0.551856280773724\n",
            "Test R-squared: 0.610416090854752\n",
            "Training Score: 0.7666789543896851\n",
            "Testing Score: 0.854983406924447\n"
          ]
        }
      ],
      "source": [
        "# Import the necessary libraries\n",
        "from sklearn.neighbors import KNeighborsRegressor\n",
        "from sklearn.model_selection import train_test_split\n",
        "from sklearn.metrics import mean_squared_error, mean_absolute_error, r2_score\n",
        "\n",
        "# Convert y_train and y_test to numerical data types\n",
        "y_train = y_train.astype(float)\n",
        "y_test = y_test.astype(float)\n",
        "\n",
        "# Create the K-Nearest Neighbors regressor model with more neighbors\n",
        "knn = KNeighborsRegressor(n_neighbors=25,metric='manhattan',algorithm='brute')\n",
        "\n",
        "# Train the model\n",
        "knn.fit(X_train, y_train)\n",
        "\n",
        "# Make predictions on the train and test sets\n",
        "y_train_pred = knn.predict(X_train)\n",
        "y_test_pred = knn.predict(X_test)\n",
        "\n",
        "# Evaluate the model using mean squared error, mean absolute error, and R-squared\n",
        "train_mse = mean_squared_error(y_train, y_train_pred)\n",
        "test_mse = mean_squared_error(y_test, y_test_pred)\n",
        "\n",
        "train_mae = mean_absolute_error(y_train, y_train_pred)\n",
        "test_mae = mean_absolute_error(y_test, y_test_pred)\n",
        "\n",
        "train_r2 = r2_score(y_train, y_train_pred)\n",
        "test_r2 = r2_score(y_test, y_test_pred)\n",
        "\n",
        "print(\"Train Mean Squared Error:\", train_mse)\n",
        "print(\"Test Mean Squared Error:\", test_mse)\n",
        "print(\"Train Mean Absolute Error:\", train_mae)\n",
        "print(\"Test Mean Absolute Error:\", test_mae)\n",
        "print(\"Train R-squared:\", train_r2)\n",
        "print(\"Test R-squared:\", test_r2)\n",
        "\n",
        "# Calculate the training and testing scores using regressor.score (R-squared values)\n",
        "train_score = regressor.score(X_train, y_train)\n",
        "test_score = regressor.score(X_test, y_test)\n",
        "\n",
        "print(\"Training Score:\", train_score)\n",
        "print(\"Testing Score:\", test_score)\n"
      ]
    },
    {
      "cell_type": "code",
      "execution_count": null,
      "metadata": {
        "id": "eEzi_P_0B0PU"
      },
      "outputs": [],
      "source": [
        "import numpy as np\n",
        "import pandas as pd\n",
        "from sklearn.neighbors import KNeighborsRegressor\n",
        "from sklearn.model_selection import train_test_split\n",
        "from sklearn.metrics import mean_squared_error, mean_absolute_error, r2_score\n",
        "import matplotlib.pyplot as plt\n"
      ]
    },
    {
      "cell_type": "code",
      "execution_count": null,
      "metadata": {
        "colab": {
          "base_uri": "https://localhost:8080/",
          "height": 668
        },
        "id": "I5DLwDXwB1L6",
        "outputId": "ed3ce353-dcf9-423e-af28-cdd7a7f5202f"
      },
      "outputs": [
        {
          "name": "stdout",
          "output_type": "stream",
          "text": [
            "Train Mean Squared Error: 1.4392708333333333\n",
            "Test Mean Squared Error: 0.8096691176470587\n",
            "Train Mean Absolute Error: 0.7579545454545454\n",
            "Test Mean Absolute Error: 0.6573529411764705\n",
            "Train R-squared: 0.7170007389304873\n",
            "Test R-squared: 0.8251685781530186\n"
          ]
        },
        {
          "data": {
            "image/png": "[encoded data removed]",
            "text/plain": [
              "<Figure size 800x600 with 1 Axes>"
            ]
          },
          "metadata": {},
          "output_type": "display_data"
        }
      ],
      "source": [
        "# Assuming 'df' is your DataFrame and 'Rating' is the target column\n",
        "X = df.drop(columns=['Rating'])\n",
        "y = df['Rating']\n",
        "\n",
        "# Split the data into training and testing sets\n",
        "X_train, X_test, y_train, y_test = train_test_split(X, y, test_size=0.2, random_state=42)\n",
        "\n",
        "# Ensure y_train and y_test are of type float\n",
        "y_train = y_train.astype(float)\n",
        "y_test = y_test.astype(float)\n",
        "\n",
        "# Create the K-Nearest Neighbors regressor model\n",
        "knn = KNeighborsRegressor(n_neighbors=4, metric='manhattan', algorithm='brute')\n",
        "\n",
        "# Train the model\n",
        "knn.fit(X_train, y_train)\n",
        "\n",
        "# Make predictions on the train and test sets\n",
        "y_train_pred = knn.predict(X_train)\n",
        "y_test_pred = knn.predict(X_test)\n",
        "\n",
        "# Evaluate the model using mean squared error, mean absolute error, and R-squared\n",
        "train_mse = mean_squared_error(y_train, y_train_pred)\n",
        "test_mse = mean_squared_error(y_test, y_test_pred)\n",
        "\n",
        "train_mae = mean_absolute_error(y_train, y_train_pred)\n",
        "test_mae = mean_absolute_error(y_test, y_test_pred)\n",
        "\n",
        "train_r2 = r2_score(y_train, y_train_pred)\n",
        "test_r2 = r2_score(y_test, y_test_pred)\n",
        "\n",
        "print(\"Train Mean Squared Error:\", train_mse)\n",
        "print(\"Test Mean Squared Error:\", test_mse)\n",
        "print(\"Train Mean Absolute Error:\", train_mae)\n",
        "print(\"Test Mean Absolute Error:\", test_mae)\n",
        "print(\"Train R-squared:\", train_r2)\n",
        "print(\"Test R-squared:\", test_r2)\n",
        "\n",
        "# Plotting Actual vs Predicted values\n",
        "plt.figure(figsize=(8, 6))\n",
        "plt.scatter(y_test, y_test_pred, color='blue', label='Actual vs Predicted')\n",
        "\n",
        "# Plotting the 45-degree line\n",
        "plt.plot([y_test.min(), y_test.max()], [y_test.min(), y_test.max()], color='red', linestyle='--', label='45-degree line')\n",
        "\n",
        "# Adding labels and title\n",
        "plt.xlabel('Actual Values')\n",
        "plt.ylabel('Predicted Values')\n",
        "plt.title('Actual vs Predicted Ratings')\n",
        "\n",
        "# Adding legend\n",
        "plt.legend()\n",
        "\n",
        "# Display the plot\n",
        "plt.show()\n"
      ]
    },
    {
      "cell_type": "markdown",
      "metadata": {
        "id": "VFlXgQtBBDJ4"
      },
      "source": [
        "### ***`BESTRANDOMFOREST`***"
      ]
    },
    {
      "cell_type": "code",
      "execution_count": null,
      "metadata": {
        "colab": {
          "base_uri": "https://localhost:8080/"
        },
        "id": "4c0koIwdBL2T",
        "outputId": "7232a860-9e40-4961-c9ae-bdb0ab298075"
      },
      "outputs": [
        {
          "name": "stdout",
          "output_type": "stream",
          "text": [
            "Train Mean Squared Error: 0.009627833333333186\n",
            "Test Mean Squared Error: 0.037189941176470884\n",
            "Train Mean Absolute Error: 0.052803030303029616\n",
            "Test Mean Absolute Error: 0.09370588235294167\n",
            "Train R-squared: 0.9981069096545759\n",
            "Test R-squared: 0.9919695957860131\n",
            "Training Score: 0.7666789543896851\n",
            "Testing Score: 0.854983406924447\n"
          ]
        }
      ],
      "source": [
        "# Import the necessary libraries\n",
        "from sklearn.ensemble import RandomForestRegressor\n",
        "from sklearn.model_selection import train_test_split\n",
        "from sklearn.metrics import mean_squared_error, mean_absolute_error, r2_score\n",
        "\n",
        "# Convert y_train and y_test to numerical data types\n",
        "y_train = y_train.astype(float)\n",
        "y_test = y_test.astype(float)\n",
        "\n",
        "# Create the Random Forest Regressor model\n",
        "rf = RandomForestRegressor(n_estimators=100, random_state=42)\n",
        "\n",
        "# Train the model\n",
        "rf.fit(X_train, y_train)\n",
        "\n",
        "# Make predictions on the train and test sets\n",
        "y_train_pred = rf.predict(X_train)\n",
        "y_test_pred = rf.predict(X_test)\n",
        "\n",
        "# Evaluate the model using mean squared error, mean absolute error, and R-squared\n",
        "train_mse = mean_squared_error(y_train, y_train_pred)\n",
        "test_mse = mean_squared_error(y_test, y_test_pred)\n",
        "\n",
        "train_mae = mean_absolute_error(y_train, y_train_pred)\n",
        "test_mae = mean_absolute_error(y_test, y_test_pred)\n",
        "\n",
        "train_r2 = r2_score(y_train, y_train_pred)\n",
        "test_r2 = r2_score(y_test, y_test_pred)\n",
        "\n",
        "print(\"Train Mean Squared Error:\", train_mse)\n",
        "print(\"Test Mean Squared Error:\", test_mse)\n",
        "print(\"Train Mean Absolute Error:\", train_mae)\n",
        "print(\"Test Mean Absolute Error:\", test_mae)\n",
        "print(\"Train R-squared:\", train_r2)\n",
        "print(\"Test R-squared:\", test_r2)\n",
        "\n",
        "# Calculate the training and testing scores using regressor.score (R-squared values)\n",
        "train_score = regressor.score(X_train, y_train)\n",
        "test_score = regressor.score(X_test, y_test)\n",
        "\n",
        "print(\"Training Score:\", train_score)\n",
        "print(\"Testing Score:\", test_score)\n"
      ]
    },
    {
      "cell_type": "code",
      "execution_count": null,
      "metadata": {
        "id": "WmO1ZbwABarb"
      },
      "outputs": [],
      "source": [
        "import numpy as np\n",
        "import pandas as pd\n",
        "from sklearn.ensemble import RandomForestRegressor\n",
        "from sklearn.model_selection import train_test_split\n",
        "from sklearn.metrics import mean_squared_error, mean_absolute_error, r2_score\n",
        "import matplotlib.pyplot as plt\n"
      ]
    },
    {
      "cell_type": "code",
      "execution_count": null,
      "metadata": {
        "colab": {
          "base_uri": "https://localhost:8080/",
          "height": 668
        },
        "id": "tQjPZUhfBbrv",
        "outputId": "7b4eba3b-0933-4537-9432-64c031fe4e65"
      },
      "outputs": [
        {
          "name": "stdout",
          "output_type": "stream",
          "text": [
            "Train Mean Squared Error: 0.009627833333333186\n",
            "Test Mean Squared Error: 0.037189941176470884\n",
            "Train Mean Absolute Error: 0.052803030303029616\n",
            "Test Mean Absolute Error: 0.09370588235294167\n",
            "Train R-squared: 0.9981069096545759\n",
            "Test R-squared: 0.9919695957860131\n"
          ]
        },
        {
          "data": {
            "image/png": "[encoded data removed]",
            "text/plain": [
              "<Figure size 800x600 with 1 Axes>"
            ]
          },
          "metadata": {},
          "output_type": "display_data"
        }
      ],
      "source": [
        "# Assuming 'df' is your DataFrame and 'Rating' is the target column\n",
        "X = df.drop(columns=['Rating'])\n",
        "y = df['Rating']\n",
        "\n",
        "# Split the data into training and testing sets\n",
        "X_train, X_test, y_train, y_test = train_test_split(X, y, test_size=0.2, random_state=42)\n",
        "\n",
        "# Ensure y_train and y_test are of type float\n",
        "y_train = y_train.astype(float)\n",
        "y_test = y_test.astype(float)\n",
        "\n",
        "# Create the Random Forest Regressor model\n",
        "rf = RandomForestRegressor(n_estimators=100, random_state=42)\n",
        "\n",
        "# Train the model\n",
        "rf.fit(X_train, y_train)\n",
        "\n",
        "# Make predictions on the train and test sets\n",
        "y_train_pred = rf.predict(X_train)\n",
        "y_test_pred = rf.predict(X_test)\n",
        "\n",
        "# Evaluate the model using mean squared error, mean absolute error, and R-squared\n",
        "train_mse = mean_squared_error(y_train, y_train_pred)\n",
        "test_mse = mean_squared_error(y_test, y_test_pred)\n",
        "\n",
        "train_mae = mean_absolute_error(y_train, y_train_pred)\n",
        "test_mae = mean_absolute_error(y_test, y_test_pred)\n",
        "\n",
        "train_r2 = r2_score(y_train, y_train_pred)\n",
        "test_r2 = r2_score(y_test, y_test_pred)\n",
        "\n",
        "print(\"Train Mean Squared Error:\", train_mse)\n",
        "print(\"Test Mean Squared Error:\", test_mse)\n",
        "print(\"Train Mean Absolute Error:\", train_mae)\n",
        "print(\"Test Mean Absolute Error:\", test_mae)\n",
        "print(\"Train R-squared:\", train_r2)\n",
        "print(\"Test R-squared:\", test_r2)\n",
        "\n",
        "# Plotting Actual vs Predicted values\n",
        "plt.figure(figsize=(8, 6))\n",
        "plt.scatter(y_test, y_test_pred, color='blue', label='Actual vs Predicted')\n",
        "\n",
        "# Plotting the 45-degree line\n",
        "plt.plot([y_test.min(), y_test.max()], [y_test.min(), y_test.max()], color='red', linestyle='--', label='45-degree line')\n",
        "\n",
        "# Adding labels and title\n",
        "plt.xlabel('Actual Values')\n",
        "plt.ylabel('Predicted Values')\n",
        "plt.title('Actual vs Predicted Ratings')\n",
        "\n",
        "# Adding legend\n",
        "plt.legend()\n",
        "\n",
        "# Display the plot\n",
        "plt.show()\n"
      ]
    },
    {
      "cell_type": "code",
      "execution_count": null,
      "metadata": {
        "colab": {
          "base_uri": "https://localhost:8080/",
          "height": 668
        },
        "id": "_gIFGY2GBenx",
        "outputId": "f4f83182-14da-4e4b-bfd0-ec0e80a0c090"
      },
      "outputs": [
        {
          "name": "stdout",
          "output_type": "stream",
          "text": [
            "Train Mean Squared Error: 0.01592203389830507\n",
            "Test Mean Squared Error: 0.045319999999999985\n",
            "Train Mean Absolute Error: 0.05694915254237281\n",
            "Test Mean Absolute Error: 0.15066666666666664\n",
            "Train R-squared: 0.9966129128853851\n",
            "Test R-squared: 0.9911499739628536\n"
          ]
        },
        {
          "data": {
            "image/png": "[encoded data removed]",
            "text/plain": [
              "<Figure size 800x600 with 1 Axes>"
            ]
          },
          "metadata": {},
          "output_type": "display_data"
        }
      ],
      "source": [
        "# Assuming 'df' is your DataFrame and 'Rating' is the target column\n",
        "X = df.drop(columns=['Rating'])\n",
        "y = df['Rating']\n",
        "\n",
        "# Split the data into training and testing sets\n",
        "X_train, X_test, y_train, y_test = train_test_split(X, y, test_size=0.2, random_state=42)\n",
        "\n",
        "# Ensure y_train and y_test are of type float\n",
        "y_train = y_train.astype(float)\n",
        "y_test = y_test.astype(float)\n",
        "\n",
        "# Create the Random Forest Regressor model\n",
        "rf = RandomForestRegressor(n_estimators=10, random_state=42)\n",
        "\n",
        "# Train the model\n",
        "rf.fit(X_train, y_train)\n",
        "\n",
        "# Make predictions on the train and test sets\n",
        "y_train_pred = rf.predict(X_train)\n",
        "y_test_pred = rf.predict(X_test)\n",
        "\n",
        "# Evaluate the model using mean squared error, mean absolute error, and R-squared\n",
        "train_mse = mean_squared_error(y_train, y_train_pred)\n",
        "test_mse = mean_squared_error(y_test, y_test_pred)\n",
        "\n",
        "train_mae = mean_absolute_error(y_train, y_train_pred)\n",
        "test_mae = mean_absolute_error(y_test, y_test_pred)\n",
        "\n",
        "train_r2 = r2_score(y_train, y_train_pred)\n",
        "test_r2 = r2_score(y_test, y_test_pred)\n",
        "\n",
        "print(\"Train Mean Squared Error:\", train_mse)\n",
        "print(\"Test Mean Squared Error:\", test_mse)\n",
        "print(\"Train Mean Absolute Error:\", train_mae)\n",
        "print(\"Test Mean Absolute Error:\", test_mae)\n",
        "print(\"Train R-squared:\", train_r2)\n",
        "print(\"Test R-squared:\", test_r2)\n",
        "\n",
        "# Plotting Actual vs Predicted values\n",
        "plt.figure(figsize=(8, 6))\n",
        "plt.scatter(y_test, y_test_pred, color='blue', label='Actual vs Predicted')\n",
        "\n",
        "# Plotting the 45-degree line\n",
        "plt.plot([y_test.min(), y_test.max()], [y_test.min(), y_test.max()], color='red', linestyle='--', label='45-degree line')\n",
        "\n",
        "# Adding labels and title\n",
        "plt.xlabel('Actual Values')\n",
        "plt.ylabel('Predicted Values')\n",
        "plt.title('Actual vs Predicted Ratings')\n",
        "\n",
        "# Adding legend\n",
        "plt.legend()\n",
        "\n",
        "# Display the plot\n",
        "plt.show()"
      ]
    },
    {
      "cell_type": "code",
      "execution_count": null,
      "metadata": {
        "colab": {
          "base_uri": "https://localhost:8080/"
        },
        "id": "k7gZbAJqWyCD",
        "outputId": "88ddec6b-ca12-4e8f-a854-3b7fdd9be23e"
      },
      "outputs": [
        {
          "name": "stdout",
          "output_type": "stream",
          "text": [
            "Mean Squared Error: 3.875988091076721\n",
            "R-squared Score: 0.24310248178071325\n",
            "Training Score: 0.9841196348503436\n",
            "Testing Score: 0.24310248178071325\n"
          ]
        }
      ],
      "source": [
        "from sklearn.svm import SVR\n",
        "from sklearn.model_selection import train_test_split\n",
        "from sklearn.metrics import mean_squared_error\n",
        "\n",
        "# Assuming 'Rating' is the target column and all other columns are features\n",
        "X =df.loc[:, df.columns != 'Rating']\n",
        "y = df['Rating']\n",
        "\n",
        "# Split the data into training and testing sets\n",
        "X_train, X_test, y_train, y_test = train_test_split(X, y, test_size=0.2, random_state=42)\n",
        "\n",
        "# Instantiate and fit the SVR model with the RBF kernel\n",
        "regressor = SVR(kernel='rbf', C=1000.0, gamma='scale')  # Adjust C and gamma as needed\n",
        "regressor.fit(X_train, y_train)\n",
        "\n",
        "# Predict on the test set\n",
        "y_pred = regressor.predict(X_test)\n",
        "\n",
        "# Evaluate the model using mean squared error\n",
        "mse = mean_squared_error(y_test, y_pred)\n",
        "print(\"Mean Squared Error:\", mse)\n",
        "\n",
        "# Calculate the R-squared score\n",
        "r2_score = regressor.score(X_test, y_test)\n",
        "print(\"R-squared Score:\", r2_score)\n",
        "\n",
        "# Calculate the training and testing scores\n",
        "train_score = regressor.score(X_train, y_train)\n",
        "test_score = regressor.score(X_test, y_test)\n",
        "\n",
        "print(\"Training Score:\", train_score)\n",
        "print(\"Testing Score:\", test_score)"
      ]
    },
    {
      "cell_type": "code",
      "execution_count": null,
      "metadata": {
        "colab": {
          "base_uri": "https://localhost:8080/"
        },
        "id": "BNOHx3rAW35Y",
        "outputId": "30b7f2a9-0a52-4f8e-dfec-99bdf7df6330"
      },
      "outputs": [
        {
          "name": "stdout",
          "output_type": "stream",
          "text": [
            "Mean Squared Error: 1.7279730874275572\n",
            "R-squared Score: 0.6625638390286406\n",
            "Training Score: 0.9170972833941339\n",
            "Testing Score: 0.6625638390286406\n"
          ]
        }
      ],
      "source": [
        "from sklearn.svm import SVR\n",
        "from sklearn.model_selection import train_test_split\n",
        "from sklearn.metrics import mean_squared_error\n",
        "\n",
        "# Assuming 'Rating' is the target column and all other columns are features\n",
        "X =df.loc[:, df.columns != 'Rating']\n",
        "y = df['Rating']\n",
        "\n",
        "# Split the data into training and testing sets\n",
        "X_train, X_test, y_train, y_test = train_test_split(X, y, test_size=0.2, random_state=42)\n",
        "\n",
        "# Instantiate and fit the SVR model with the RBF kernel\n",
        "regressor = SVR(kernel='rbf', C=50, gamma='scale')  # Adjust C and gamma as needed\n",
        "regressor.fit(X_train, y_train)\n",
        "\n",
        "# Predict on the test set\n",
        "y_pred = regressor.predict(X_test)\n",
        "\n",
        "# Evaluate the model using mean squared error\n",
        "mse = mean_squared_error(y_test, y_pred)\n",
        "print(\"Mean Squared Error:\", mse)\n",
        "\n",
        "# Calculate the R-squared score\n",
        "r2_score = regressor.score(X_test, y_test)\n",
        "print(\"R-squared Score:\", r2_score)\n",
        "\n",
        "# Calculate the training and testing scores\n",
        "train_score = regressor.score(X_train, y_train)\n",
        "test_score = regressor.score(X_test, y_test)\n",
        "\n",
        "print(\"Training Score:\", train_score)\n",
        "print(\"Testing Score:\", test_score)"
      ]
    },
    {
      "cell_type": "code",
      "execution_count": null,
      "metadata": {
        "colab": {
          "base_uri": "https://localhost:8080/"
        },
        "id": "iOwaMCyLW-Rv",
        "outputId": "309cfa8e-9563-427d-c575-5e51326b8311"
      },
      "outputs": [
        {
          "name": "stdout",
          "output_type": "stream",
          "text": [
            "Mean Squared Error: 5.749015111109919\n",
            "R-squared Score: -0.12265960770676254\n",
            "Training Score: 0.9978711425644182\n",
            "Testing Score: -0.12265960770676254\n",
            "Cross-Validation Scores: [-0.12847952  0.036363   -0.02991656 -0.11099625 -0.0658726 ]\n",
            "Cross-Validation Mean Score: -0.05978038585696752\n"
          ]
        }
      ],
      "source": [
        "from sklearn.svm import SVR\n",
        "from sklearn.model_selection import train_test_split, cross_val_score\n",
        "from sklearn.metrics import mean_squared_error\n",
        "\n",
        "# Assuming 'Rating' is the target column and all other columns are features\n",
        "X = df.loc[:, df.columns != 'Rating']\n",
        "y = df['Rating']\n",
        "\n",
        "# Split the data into training and testing sets\n",
        "X_train, X_test, y_train, y_test = train_test_split(X, y, test_size=0.2, random_state=42)\n",
        "\n",
        "# Instantiate and fit the SVR model with the RBF kernel and increased C, decreased gamma\n",
        "regressor = SVR(kernel='rbf', C=60, gamma=0.1)\n",
        "regressor.fit(X_train, y_train)\n",
        "\n",
        "# Predict on the test set\n",
        "y_pred = regressor.predict(X_test)\n",
        "\n",
        "# Evaluate the model using mean squared error\n",
        "mse = mean_squared_error(y_test, y_pred)\n",
        "print(\"Mean Squared Error:\", mse)\n",
        "\n",
        "# Calculate the R-squared score\n",
        "r2_score = regressor.score(X_test, y_test)\n",
        "print(\"R-squared Score:\", r2_score)\n",
        "\n",
        "# Calculate the training and testing scores\n",
        "train_score = regressor.score(X_train, y_train)\n",
        "test_score = regressor.score(X_test, y_test)\n",
        "\n",
        "print(\"Training Score:\", train_score)\n",
        "print(\"Testing Score:\", test_score)\n",
        "\n",
        "# Perform cross-validation\n",
        "cv_scores = cross_val_score(regressor, X, y, cv=5)\n",
        "print(\"Cross-Validation Scores:\", cv_scores)\n",
        "print(\"Cross-Validation Mean Score:\", cv_scores.mean())"
      ]
    },
    {
      "cell_type": "code",
      "execution_count": null,
      "metadata": {
        "colab": {
          "base_uri": "https://localhost:8080/"
        },
        "id": "fpED3vqHXPzb",
        "outputId": "bea047e0-2aa5-4803-9ebb-a192eeea251b"
      },
      "outputs": [
        {
          "name": "stdout",
          "output_type": "stream",
          "text": [
            "Mean Squared Error: 5.924981087149288\n",
            "R-squared Score: -0.1570219967094164\n",
            "Training Score: 0.9978741235542047\n",
            "Testing Score: -0.1570219967094164\n",
            "Cross-Validation Scores: [-0.14045663  0.00117489 -0.03605188 -0.09819961 -0.1161701 ]\n",
            "Cross-Validation Mean Score: -0.07794066479869213\n"
          ]
        }
      ],
      "source": [
        "from sklearn.svm import SVR\n",
        "from sklearn.model_selection import train_test_split, cross_val_score\n",
        "from sklearn.metrics import mean_squared_error\n",
        "\n",
        "# Assuming 'Rating' is the target column and all other columns are features\n",
        "X = df.loc[:, df.columns != 'Rating']\n",
        "y = df['Rating']\n",
        "\n",
        "# Split the data into training and testing sets\n",
        "X_train, X_test, y_train, y_test = train_test_split(X, y, test_size=0.2, random_state=42)\n",
        "\n",
        "# Instantiate and fit the SVR model with the RBF kernel and increased C, decreased gamma\n",
        "regressor = SVR(kernel='rbf', C=5, gamma=0.5)\n",
        "regressor.fit(X_train, y_train)\n",
        "\n",
        "# Predict on the test set\n",
        "y_pred = regressor.predict(X_test)\n",
        "\n",
        "# Evaluate the model using mean squared error\n",
        "mse = mean_squared_error(y_test, y_pred)\n",
        "print(\"Mean Squared Error:\", mse)\n",
        "\n",
        "# Calculate the R-squared score\n",
        "r2_score = regressor.score(X_test, y_test)\n",
        "print(\"R-squared Score:\", r2_score)\n",
        "\n",
        "# Calculate the training and testing scores\n",
        "train_score = regressor.score(X_train, y_train)\n",
        "test_score = regressor.score(X_test, y_test)\n",
        "\n",
        "print(\"Training Score:\", train_score)\n",
        "print(\"Testing Score:\", test_score)\n",
        "\n",
        "# Perform cross-validation\n",
        "cv_scores = cross_val_score(regressor, X, y, cv=5)\n",
        "print(\"Cross-Validation Scores:\", cv_scores)\n",
        "print(\"Cross-Validation Mean Score:\", cv_scores.mean())"
      ]
    },
    {
      "cell_type": "code",
      "execution_count": null,
      "metadata": {
        "colab": {
          "base_uri": "https://localhost:8080/"
        },
        "id": "xjt6opPSZVyj",
        "outputId": "2694c4df-7631-4d24-9791-e0d4937e1580"
      },
      "outputs": [
        {
          "name": "stdout",
          "output_type": "stream",
          "text": [
            "Train Mean Squared Error: 1.785239589872358\n",
            "Test Mean Squared Error: 0.9779999999999999\n",
            "Train Mean Absolute Error: 1.0097928436911485\n",
            "Test Mean Absolute Error: 0.5755555555555554\n"
          ]
        }
      ],
      "source": [
        "# Import the necessary libraries\n",
        "from sklearn.neighbors import KNeighborsRegressor\n",
        "from sklearn.model_selection import train_test_split\n",
        "from sklearn.metrics import mean_squared_error, mean_absolute_error\n",
        "\n",
        "# Convert y_train and y_test to numerical data types\n",
        "y_train = y_train.astype(float)\n",
        "y_test = y_test.astype(float)\n",
        "\n",
        "# Create the K-Nearest Neighbors regressor model\n",
        "knn = KNeighborsRegressor(n_neighbors=9)\n",
        "\n",
        "# Train the model\n",
        "knn.fit(X_train, y_train)\n",
        "\n",
        "# Make predictions on the train and test sets\n",
        "y_train_pred = knn.predict(X_train)\n",
        "y_test_pred = knn.predict(X_test)\n",
        "\n",
        "# Evaluate the model using mean squared error and mean absolute error\n",
        "train_mse = mean_squared_error(y_train, y_train_pred)\n",
        "test_mse = mean_squared_error(y_test, y_test_pred)\n",
        "\n",
        "train_mae = mean_absolute_error(y_train, y_train_pred)\n",
        "test_mae = mean_absolute_error(y_test, y_test_pred)\n",
        "\n",
        "print(\"Train Mean Squared Error:\", train_mse)\n",
        "print(\"Test Mean Squared Error:\", test_mse)\n",
        "print(\"Train Mean Absolute Error:\", train_mae)\n",
        "print(\"Test Mean Absolute Error:\", test_mae)"
      ]
    },
    {
      "cell_type": "code",
      "execution_count": null,
      "metadata": {
        "colab": {
          "base_uri": "https://localhost:8080/"
        },
        "id": "RsyT0wpBZsuK",
        "outputId": "6a08f2db-4a68-474b-bef1-6ba7424ce80b"
      },
      "outputs": [
        {
          "name": "stdout",
          "output_type": "stream",
          "text": [
            "Train Accuracy: 0.6202267844687457\n",
            "Test Accuracy: 0.8090175316785281\n",
            "Train Mean Squared Error (MSE): 1.785239589872358\n",
            "Test Mean Squared Error (MSE): 0.9779999999999999\n",
            "Train Mean Absolute Error (MAE): 1.0097928436911485\n",
            "Test Mean Absolute Error (MAE): 0.5755555555555554\n",
            "Train R-squared: 0.6202267844687457\n",
            "Test R-squared: 0.8090175316785281\n",
            "Predicted Values:\n",
            "[4.44444444 4.44444444 4.53333333 4.46666667 0.82222222]\n"
          ]
        }
      ],
      "source": [
        "# Import the necessary libraries\n",
        "from sklearn.neighbors import KNeighborsRegressor\n",
        "from sklearn.model_selection import train_test_split\n",
        "from sklearn.metrics import mean_squared_error, mean_absolute_error, r2_score\n",
        "\n",
        "# Convert y_train and y_test to numerical data types\n",
        "y_train = y_train.astype(float)\n",
        "y_test = y_test.astype(float)\n",
        "\n",
        "# Create the K-Nearest Neighbors regressor model\n",
        "knn = KNeighborsRegressor(n_neighbors=9)\n",
        "\n",
        "# Train the model\n",
        "knn.fit(X_train, y_train)\n",
        "\n",
        "# Make predictions on the train and test sets\n",
        "y_train_pred = knn.predict(X_train)\n",
        "y_test_pred = knn.predict(X_test)\n",
        "\n",
        "# Evaluate the model using mean squared error, mean absolute error, and R-squared\n",
        "train_mse = mean_squared_error(y_train, y_train_pred)\n",
        "test_mse = mean_squared_error(y_test, y_test_pred)\n",
        "train_mae = mean_absolute_error(y_train, y_train_pred)\n",
        "test_mae = mean_absolute_error(y_test, y_test_pred)\n",
        "train_r2 = r2_score(y_train, y_train_pred)\n",
        "test_r2 = r2_score(y_test, y_test_pred)\n",
        "\n",
        "print(\"Train Accuracy:\", knn.score(X_train, y_train))\n",
        "print(\"Test Accuracy:\", knn.score(X_test, y_test))\n",
        "print(\"Train Mean Squared Error (MSE):\", train_mse)\n",
        "print(\"Test Mean Squared Error (MSE):\", test_mse)\n",
        "print(\"Train Mean Absolute Error (MAE):\", train_mae)\n",
        "print(\"Test Mean Absolute Error (MAE):\", test_mae)\n",
        "print(\"Train R-squared:\", train_r2)\n",
        "print(\"Test R-squared:\", test_r2)\n",
        "\n",
        "print(\"Predicted Values:\")\n",
        "print(y_test_pred[:5])"
      ]
    },
    {
      "cell_type": "code",
      "execution_count": null,
      "metadata": {
        "colab": {
          "base_uri": "https://localhost:8080/"
        },
        "id": "lRApIWLFZxKh",
        "outputId": "0ad89ff7-2018-4e49-bb5d-11430458e6aa"
      },
      "outputs": [
        {
          "name": "stdout",
          "output_type": "stream",
          "text": [
            "Train Accuracy: 0.6271802853912671\n",
            "Test Accuracy: 0.8423385696927617\n",
            "Train Mean Squared Error (MSE): 1.7525525423728814\n",
            "Test Mean Squared Error (MSE): 0.8073666666666668\n",
            "Train Mean Absolute Error (MAE): 1.013220338983051\n",
            "Test Mean Absolute Error (MAE): 0.5579999999999999\n",
            "Train R-squared: 0.6271802853912671\n",
            "Test R-squared: 0.8423385696927617\n",
            "Predicted Values:\n",
            "[4.48 4.44 4.52 4.43 1.17]\n"
          ]
        }
      ],
      "source": [
        "# Import the necessary libraries\n",
        "from sklearn.neighbors import KNeighborsRegressor\n",
        "from sklearn.model_selection import train_test_split\n",
        "from sklearn.metrics import mean_squared_error, mean_absolute_error, r2_score\n",
        "\n",
        "# Convert y_train and y_test to numerical data types\n",
        "y_train = y_train.astype(float)\n",
        "y_test = y_test.astype(float)\n",
        "\n",
        "# Create the K-Nearest Neighbors regressor model\n",
        "knn = KNeighborsRegressor(n_neighbors=10)\n",
        "\n",
        "# Train the model\n",
        "knn.fit(X_train, y_train)\n",
        "\n",
        "# Make predictions on the train and test sets\n",
        "y_train_pred = knn.predict(X_train)\n",
        "y_test_pred = knn.predict(X_test)\n",
        "\n",
        "# Evaluate the model using mean squared error, mean absolute error, and R-squared\n",
        "train_mse = mean_squared_error(y_train, y_train_pred)\n",
        "test_mse = mean_squared_error(y_test, y_test_pred)\n",
        "train_mae = mean_absolute_error(y_train, y_train_pred)\n",
        "test_mae = mean_absolute_error(y_test, y_test_pred)\n",
        "train_r2 = r2_score(y_train, y_train_pred)\n",
        "test_r2 = r2_score(y_test, y_test_pred)\n",
        "\n",
        "print(\"Train Accuracy:\", knn.score(X_train, y_train))\n",
        "print(\"Test Accuracy:\", knn.score(X_test, y_test))\n",
        "print(\"Train Mean Squared Error (MSE):\", train_mse)\n",
        "print(\"Test Mean Squared Error (MSE):\", test_mse)\n",
        "print(\"Train Mean Absolute Error (MAE):\", train_mae)\n",
        "print(\"Test Mean Absolute Error (MAE):\", test_mae)\n",
        "print(\"Train R-squared:\", train_r2)\n",
        "print(\"Test R-squared:\", test_r2)\n",
        "\n",
        "print(\"Predicted Values:\")\n",
        "print(y_test_pred[:5])"
      ]
    },
    {
      "cell_type": "code",
      "execution_count": null,
      "metadata": {
        "colab": {
          "base_uri": "https://localhost:8080/"
        },
        "id": "ClTzFav8Z1EP",
        "outputId": "911bf0d8-37d7-4dbd-a5b4-d019632e5c2d"
      },
      "outputs": [
        {
          "name": "stdout",
          "output_type": "stream",
          "text": [
            "Train Accuracy: 0.7682599993888838\n",
            "Test Accuracy: 0.7178224266620379\n",
            "Train Mean Squared Error (MSE): 1.0893644067796608\n",
            "Test Mean Squared Error (MSE): 1.4449999999999998\n",
            "Train Mean Absolute Error (MAE): 0.5855932203389831\n",
            "Test Mean Absolute Error (MAE): 0.5899999999999997\n",
            "Train R-squared: 0.7682599993888838\n",
            "Test R-squared: 0.7178224266620379\n",
            "Predicted Values:\n",
            "[4.5   4.375 4.525 4.55  0.   ]\n"
          ]
        }
      ],
      "source": [
        "# Import the necessary libraries\n",
        "from sklearn.neighbors import KNeighborsRegressor\n",
        "from sklearn.model_selection import train_test_split\n",
        "from sklearn.metrics import mean_squared_error, mean_absolute_error, r2_score\n",
        "\n",
        "# Convert y_train and y_test to numerical data types\n",
        "y_train = y_train.astype(float)\n",
        "y_test = y_test.astype(float)\n",
        "\n",
        "# Create the K-Nearest Neighbors regressor model\n",
        "knn = KNeighborsRegressor(n_neighbors=4)\n",
        "\n",
        "# Train the model\n",
        "knn.fit(X_train, y_train)\n",
        "\n",
        "# Make predictions on the train and test sets\n",
        "y_train_pred = knn.predict(X_train)\n",
        "y_test_pred = knn.predict(X_test)\n",
        "\n",
        "# Evaluate the model using mean squared error, mean absolute error, and R-squared\n",
        "train_mse = mean_squared_error(y_train, y_train_pred)\n",
        "test_mse = mean_squared_error(y_test, y_test_pred)\n",
        "train_mae = mean_absolute_error(y_train, y_train_pred)\n",
        "test_mae = mean_absolute_error(y_test, y_test_pred)\n",
        "train_r2 = r2_score(y_train, y_train_pred)\n",
        "test_r2 = r2_score(y_test, y_test_pred)\n",
        "\n",
        "print(\"Train Accuracy:\", knn.score(X_train, y_train))\n",
        "print(\"Test Accuracy:\", knn.score(X_test, y_test))\n",
        "print(\"Train Mean Squared Error (MSE):\", train_mse)\n",
        "print(\"Test Mean Squared Error (MSE):\", test_mse)\n",
        "print(\"Train Mean Absolute Error (MAE):\", train_mae)\n",
        "print(\"Test Mean Absolute Error (MAE):\", test_mae)\n",
        "print(\"Train R-squared:\", train_r2)\n",
        "print(\"Test R-squared:\", test_r2)\n",
        "\n",
        "print(\"Predicted Values:\")\n",
        "print(y_test_pred[:5])"
      ]
    },
    {
      "cell_type": "code",
      "execution_count": null,
      "metadata": {
        "colab": {
          "base_uri": "https://localhost:8080/"
        },
        "id": "w9gZa4hEZ_ZK",
        "outputId": "57f2f0e7-70fe-4398-bf39-6cb0a06d085c"
      },
      "outputs": [
        {
          "name": "stdout",
          "output_type": "stream",
          "text": [
            "Train Accuracy: 0.7249949752667691\n",
            "Test Accuracy: 0.8105580628363132\n",
            "Train Mean Squared Error (MSE): 1.2927448210922787\n",
            "Test Mean Squared Error (MSE): 0.9701111111111111\n",
            "Train Mean Absolute Error (MAE): 0.7511299435028248\n",
            "Test Mean Absolute Error (MAE): 0.48888888888888876\n",
            "Train R-squared: 0.7249949752667691\n",
            "Test R-squared: 0.8105580628363132\n",
            "Predicted Values:\n",
            "[4.45       4.45       4.51666667 4.53333333 0.66666667]\n"
          ]
        }
      ],
      "source": [
        "# Import the necessary libraries\n",
        "from sklearn.neighbors import KNeighborsRegressor\n",
        "from sklearn.model_selection import train_test_split\n",
        "from sklearn.metrics import mean_squared_error, mean_absolute_error, r2_score\n",
        "\n",
        "# Convert y_train and y_test to numerical data types\n",
        "y_train = y_train.astype(float)\n",
        "y_test = y_test.astype(float)\n",
        "\n",
        "# Create the K-Nearest Neighbors regressor model\n",
        "knn = KNeighborsRegressor(n_neighbors=6)\n",
        "\n",
        "# Train the model\n",
        "knn.fit(X_train, y_train)\n",
        "\n",
        "# Make predictions on the train and test sets\n",
        "y_train_pred = knn.predict(X_train)\n",
        "y_test_pred = knn.predict(X_test)\n",
        "\n",
        "# Evaluate the model using mean squared error, mean absolute error, and R-squared\n",
        "train_mse = mean_squared_error(y_train, y_train_pred)\n",
        "test_mse = mean_squared_error(y_test, y_test_pred)\n",
        "train_mae = mean_absolute_error(y_train, y_train_pred)\n",
        "test_mae = mean_absolute_error(y_test, y_test_pred)\n",
        "train_r2 = r2_score(y_train, y_train_pred)\n",
        "test_r2 = r2_score(y_test, y_test_pred)\n",
        "\n",
        "print(\"Train Accuracy:\", knn.score(X_train, y_train))\n",
        "print(\"Test Accuracy:\", knn.score(X_test, y_test))\n",
        "print(\"Train Mean Squared Error (MSE):\", train_mse)\n",
        "print(\"Test Mean Squared Error (MSE):\", test_mse)\n",
        "print(\"Train Mean Absolute Error (MAE):\", train_mae)\n",
        "print(\"Test Mean Absolute Error (MAE):\", test_mae)\n",
        "print(\"Train R-squared:\", train_r2)\n",
        "print(\"Test R-squared:\", test_r2)\n",
        "\n",
        "print(\"Predicted Values:\")\n",
        "print(y_test_pred[:5])"
      ]
    },
    {
      "cell_type": "code",
      "execution_count": null,
      "metadata": {
        "colab": {
          "base_uri": "https://localhost:8080/"
        },
        "id": "AlZX7bhNaHgh",
        "outputId": "7f1723a9-795d-4a49-c5d1-a9408dd44373"
      },
      "outputs": [
        {
          "name": "stdout",
          "output_type": "stream",
          "text": [
            "Train Mean Squared Error: 1.9382048964218457\n",
            "Test Mean Squared Error: 0.9464651851851854\n",
            "Train Mean Absolute Error: 1.1564971751412427\n",
            "Test Mean Absolute Error: 0.7280000000000001\n",
            "Train R-squared: 0.5876865435607024\n",
            "Test R-squared: 0.8151756060869062\n"
          ]
        }
      ],
      "source": [
        "# Import the necessary libraries\n",
        "from sklearn.neighbors import KNeighborsRegressor\n",
        "from sklearn.model_selection import train_test_split\n",
        "from sklearn.metrics import mean_squared_error, mean_absolute_error, r2_score\n",
        "\n",
        "# Convert y_train and y_test to numerical data types\n",
        "y_train = y_train.astype(float)\n",
        "y_test = y_test.astype(float)\n",
        "\n",
        "# Create the K-Nearest Neighbors regressor model with more neighbors\n",
        "knn = KNeighborsRegressor(n_neighbors=15)\n",
        "\n",
        "# Train the model\n",
        "knn.fit(X_train, y_train)\n",
        "\n",
        "# Make predictions on the train and test sets\n",
        "y_train_pred = knn.predict(X_train)\n",
        "y_test_pred = knn.predict(X_test)\n",
        "\n",
        "# Evaluate the model using mean squared error, mean absolute error, and R-squared\n",
        "train_mse = mean_squared_error(y_train, y_train_pred)\n",
        "test_mse = mean_squared_error(y_test, y_test_pred)\n",
        "\n",
        "train_mae = mean_absolute_error(y_train, y_train_pred)\n",
        "test_mae = mean_absolute_error(y_test, y_test_pred)\n",
        "\n",
        "train_r2 = r2_score(y_train, y_train_pred)\n",
        "test_r2 = r2_score(y_test, y_test_pred)\n",
        "\n",
        "print(\"Train Mean Squared Error:\", train_mse)\n",
        "print(\"Test Mean Squared Error:\", test_mse)\n",
        "print(\"Train Mean Absolute Error:\", train_mae)\n",
        "print(\"Test Mean Absolute Error:\", test_mae)\n",
        "print(\"Train R-squared:\", train_r2)\n",
        "print(\"Test R-squared:\", test_r2)"
      ]
    },
    {
      "cell_type": "code",
      "execution_count": null,
      "metadata": {
        "colab": {
          "base_uri": "https://localhost:8080/"
        },
        "id": "GYG-D46GaKRO",
        "outputId": "29ad1d60-7494-449f-b2b6-4be422b9c45e"
      },
      "outputs": [
        {
          "name": "stdout",
          "output_type": "stream",
          "text": [
            "Train Mean Squared Error: 3.586211652542373\n",
            "Test Mean Squared Error: 4.032123333333335\n",
            "Train Mean Absolute Error: 1.7975423728813558\n",
            "Test Mean Absolute Error: 1.942\n",
            "Train R-squared: 0.23710680707061438\n",
            "Test R-squared: 0.21261261065787174\n"
          ]
        }
      ],
      "source": [
        "# Import the necessary libraries\n",
        "from sklearn.neighbors import KNeighborsRegressor\n",
        "from sklearn.model_selection import train_test_split\n",
        "from sklearn.metrics import mean_squared_error, mean_absolute_error, r2_score\n",
        "\n",
        "# Convert y_train and y_test to numerical data types\n",
        "y_train = y_train.astype(float)\n",
        "y_test = y_test.astype(float)\n",
        "\n",
        "# Create the K-Nearest Neighbors regressor model with more neighbors\n",
        "knn = KNeighborsRegressor(n_neighbors=40)\n",
        "\n",
        "# Train the model\n",
        "knn.fit(X_train, y_train)\n",
        "\n",
        "# Make predictions on the train and test sets\n",
        "y_train_pred = knn.predict(X_train)\n",
        "y_test_pred = knn.predict(X_test)\n",
        "\n",
        "# Evaluate the model using mean squared error, mean absolute error, and R-squared\n",
        "train_mse = mean_squared_error(y_train, y_train_pred)\n",
        "test_mse = mean_squared_error(y_test, y_test_pred)\n",
        "\n",
        "train_mae = mean_absolute_error(y_train, y_train_pred)\n",
        "test_mae = mean_absolute_error(y_test, y_test_pred)\n",
        "\n",
        "train_r2 = r2_score(y_train, y_train_pred)\n",
        "test_r2 = r2_score(y_test, y_test_pred)\n",
        "\n",
        "print(\"Train Mean Squared Error:\", train_mse)\n",
        "print(\"Test Mean Squared Error:\", test_mse)\n",
        "print(\"Train Mean Absolute Error:\", train_mae)\n",
        "print(\"Test Mean Absolute Error:\", test_mae)\n",
        "print(\"Train R-squared:\", train_r2)\n",
        "print(\"Test R-squared:\", test_r2)"
      ]
    },
    {
      "cell_type": "code",
      "execution_count": null,
      "metadata": {
        "colab": {
          "base_uri": "https://localhost:8080/"
        },
        "id": "PJVVyfL5aYWb",
        "outputId": "cff00ba2-d7c6-48bb-af44-79856425db3b"
      },
      "outputs": [
        {
          "name": "stdout",
          "output_type": "stream",
          "text": [
            "Train Mean Squared Error: 0.6784322033898305\n",
            "Test Mean Squared Error: 1.5615\n",
            "Train Mean Absolute Error: 0.3754237288135593\n",
            "Test Mean Absolute Error: 0.5566666666666666\n",
            "Train R-squared: 0.8556774223118526\n",
            "Test R-squared: 0.6950724700572817\n"
          ]
        }
      ],
      "source": [
        "# Import the necessary libraries\n",
        "from sklearn.neighbors import KNeighborsRegressor\n",
        "from sklearn.model_selection import train_test_split\n",
        "from sklearn.metrics import mean_squared_error, mean_absolute_error, r2_score\n",
        "\n",
        "# Convert y_train and y_test to numerical data types\n",
        "y_train = y_train.astype(float)\n",
        "y_test = y_test.astype(float)\n",
        "\n",
        "# Create the K-Nearest Neighbors regressor model with more neighbors\n",
        "knn = KNeighborsRegressor(n_neighbors=2)\n",
        "\n",
        "# Train the model\n",
        "knn.fit(X_train, y_train)\n",
        "\n",
        "# Make predictions on the train and test sets\n",
        "y_train_pred = knn.predict(X_train)\n",
        "y_test_pred = knn.predict(X_test)\n",
        "\n",
        "# Evaluate the model using mean squared error, mean absolute error, and R-squared\n",
        "train_mse = mean_squared_error(y_train, y_train_pred)\n",
        "test_mse = mean_squared_error(y_test, y_test_pred)\n",
        "\n",
        "train_mae = mean_absolute_error(y_train, y_train_pred)\n",
        "test_mae = mean_absolute_error(y_test, y_test_pred)\n",
        "\n",
        "train_r2 = r2_score(y_train, y_train_pred)\n",
        "test_r2 = r2_score(y_test, y_test_pred)\n",
        "\n",
        "print(\"Train Mean Squared Error:\", train_mse)\n",
        "print(\"Test Mean Squared Error:\", test_mse)\n",
        "print(\"Train Mean Absolute Error:\", train_mae)\n",
        "print(\"Test Mean Absolute Error:\", test_mae)\n",
        "print(\"Train R-squared:\", train_r2)\n",
        "print(\"Test R-squared:\", test_r2)"
      ]
    }
  ],
  "metadata": {
    "colab": {
      "provenance": []
    },
    "kernelspec": {
      "display_name": "Python 3",
      "name": "python3"
    },
    "language_info": {
      "name": "python"
    }
  },
  "nbformat": 4,
  "nbformat_minor": 0
}
